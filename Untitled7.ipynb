{
 "cells": [
  {
   "cell_type": "code",
   "execution_count": 3,
   "metadata": {},
   "outputs": [],
   "source": [
    "import urllib.request\n",
    "import re\n"
   ]
  },
  {
   "cell_type": "code",
   "execution_count": 4,
   "metadata": {},
   "outputs": [],
   "source": []
  },
  {
   "cell_type": "code",
   "execution_count": null,
   "metadata": {},
   "outputs": [],
   "source": []
  },
  {
   "cell_type": "code",
   "execution_count": 1,
   "metadata": {},
   "outputs": [
    {
     "name": "stdout",
     "output_type": "stream",
     "text": [
      "['https://ics.hutton.ac.uk', 'https://ics.hutton.ac.uk/', 'https://ics.hutton.ac.uk/research/', 'https://ics.hutton.ac.uk/software/', 'https://ics.hutton.ac.uk/software/desktop-applications/', 'https://ics.hutton.ac.uk/software/web/', 'https://ics.hutton.ac.uk/software/mobile-apps/', 'https://ics.hutton.ac.uk/software/galaxy-extensions/', 'https://ics.hutton.ac.uk/software/tools/', 'https://ics.hutton.ac.uk/blogs/', 'https://ics.hutton.ac.uk/category/ics/', 'https://ics.hutton.ac.uk/category/cropgeeks/', 'https://ics.hutton.ac.uk/category/news/', 'https://ics.hutton.ac.uk/staff/', 'https://ics.hutton.ac.uk/publications/', 'https://ics.hutton.ac.uk/events/', 'https://ics.hutton.ac.uk/events/working-together-for-better-outcomes/', 'https://ics.hutton.ac.uk/contact-us/', 'https://ics.hutton.ac.uk/barley-epigenome/', 'https://ics.hutton.ac.uk/author/imilne/', 'https://ics.hutton.ac.uk/barley-epigenome/', 'http://twitter.com/HuttonICS', 'http://twitter.com/search?q=%232', 'https://t.co/mrGRPB8Cp5', 'http://twitter.com/HuttonICS/status/1073588905939742720', 'http://twitter.com/intent/tweet?in_reply_to=1073588905939742720', 'http://twitter.com/intent/retweet?tweet_id=1073588905939742720', 'http://twitter.com/intent/favorite?tweet_id=1073588905939742720', 'http://twitter.com/HuttonICS', 'http://twitter.com/AlesGim', 'http://twitter.com/Geoderma_Jrnl', 'https://t.co/B2OxTU1rmQ', 'http://twitter.com/HuttonICS/status/1073525975487578112', 'http://twitter.com/intent/tweet?in_reply_to=1073525975487578112', 'http://twitter.com/intent/retweet?tweet_id=1073525975487578112', 'http://twitter.com/intent/favorite?tweet_id=1073525975487578112', 'http://twitter.com/HuttonICS', 'http://twitter.com/RupertHough', 'http://twitter.com/search?q=%23EuropeanBiosolids', 'https://t.co/xEfCP0JK1a', 'http://twitter.com/HuttonICS/status/1073525299961311232', 'http://twitter.com/intent/tweet?in_reply_to=1073525299961311232', 'http://twitter.com/intent/retweet?tweet_id=1073525299961311232', 'http://twitter.com/intent/favorite?tweet_id=1073525299961311232', 'https://t.co/dOVtgguUyM', 'http://twitter.com/HuttonICS/status/1073213417736028162', 'http://twitter.com/intent/tweet?in_reply_to=1073213417736028162', 'http://twitter.com/intent/retweet?tweet_id=1073213417736028162', 'http://twitter.com/intent/favorite?tweet_id=1073213417736028162', '#tabs-popular', '#tabs-recent', '#tabs-comments', '#tabs-archives', 'https://ics.hutton.ac.uk/new-in-tablet-1-17-08-17/', 'https://ics.hutton.ac.uk/new-in-tablet-1-17-08-17/', 'https://ics.hutton.ac.uk/germinate-3-released/', 'https://ics.hutton.ac.uk/germinate-3-released/', 'https://ics.hutton.ac.uk/towards-an-agile-approach-to-sustainability-science/', 'https://ics.hutton.ac.uk/towards-an-agile-approach-to-sustainability-science/', 'https://ics.hutton.ac.uk/from-oil-wealth-to-green-growth-aberdeens-challenge-and-opportunity/', 'https://ics.hutton.ac.uk/from-oil-wealth-to-green-growth-aberdeens-challenge-and-opportunity/', 'https://ics.hutton.ac.uk/new-in-tablet-1-13-07-31/', 'https://ics.hutton.ac.uk/new-in-tablet-1-13-07-31/', 'https://ics.hutton.ac.uk/from-oil-wealth-to-green-growth-aberdeens-challenge-and-opportunity/', 'https://ics.hutton.ac.uk/from-oil-wealth-to-green-growth-aberdeens-challenge-and-opportunity/', 'https://ics.hutton.ac.uk/timely-government-intervention-can-prevent-environmental-collapse-in-debt-based-financial-systems/', 'https://ics.hutton.ac.uk/timely-government-intervention-can-prevent-environmental-collapse-in-debt-based-financial-systems/', 'https://ics.hutton.ac.uk/new-in-flapjack-1-16-10-31-2-2/', 'https://ics.hutton.ac.uk/new-in-flapjack-1-16-10-31-2-2/', 'https://ics.hutton.ac.uk/new-in-flapjack-1-16-10-31-2/', 'https://ics.hutton.ac.uk/new-in-flapjack-1-16-10-31-2/', 'https://ics.hutton.ac.uk/too-much-of-a-good-thing/', 'https://ics.hutton.ac.uk/too-much-of-a-good-thing/', 'https://ics.hutton.ac.uk', 'https://ics.hutton.ac.uk/contact-us/', 'https://ics.hutton.ac.uk/site-map/', '/wordpress/wp-login.php', '#top', 'http://www.hutton.ac.uk']\n"
     ]
    }
   ],
   "source": [
    "#第一个网页\n",
    "import urllib.request\n",
    "import re\n",
    "\n",
    "\n",
    "headers=(\"User-Agent\",\"Mozilla/5.0 (Windows NT 10.0; Win64; x64) AppleWebKit/537.36 (KHTML, like Gecko) Chrome/67.0.3396.62 Safari/537.36\")\n",
    "opener=urllib.request.build_opener()\n",
    "opener.addheaders=[headers]\n",
    "urllib.request.install_opener(opener)\n",
    "url=\"https://ics.hutton.ac.uk/?s=\"+str(search_name)\n",
    "data=urllib.request.urlopen(url).read().decode(\"utf-8\",\"ignore\")\n",
    "pat='<a href=\"(.*?)\"'\n",
    "imagelist=re.compile(pat).findall(data)\n",
    "print(imagelist)\n"
   ]
  },
  {
   "cell_type": "code",
   "execution_count": 1,
   "metadata": {},
   "outputs": [
    {
     "ename": "NameError",
     "evalue": "name 'urllib' is not defined",
     "output_type": "error",
     "traceback": [
      "\u001b[1;31m---------------------------------------------------------------------------\u001b[0m",
      "\u001b[1;31mNameError\u001b[0m                                 Traceback (most recent call last)",
      "\u001b[1;32m<ipython-input-1-9064904be4a6>\u001b[0m in \u001b[0;36m<module>\u001b[1;34m()\u001b[0m\n\u001b[0;32m      1\u001b[0m \u001b[1;31m#第二个网页\u001b[0m\u001b[1;33m\u001b[0m\u001b[1;33m\u001b[0m\u001b[0m\n\u001b[0;32m      2\u001b[0m \u001b[0mheaders\u001b[0m\u001b[1;33m=\u001b[0m\u001b[1;33m(\u001b[0m\u001b[1;34m\"User-Agent\"\u001b[0m\u001b[1;33m,\u001b[0m\u001b[1;34m\"Mozilla/5.0 (Windows NT 10.0; Win64; x64) AppleWebKit/537.36 (KHTML, like Gecko) Chrome/67.0.3396.62 Safari/537.36\"\u001b[0m\u001b[1;33m)\u001b[0m\u001b[1;33m\u001b[0m\u001b[0m\n\u001b[1;32m----> 3\u001b[1;33m \u001b[0mopener\u001b[0m\u001b[1;33m=\u001b[0m\u001b[0murllib\u001b[0m\u001b[1;33m.\u001b[0m\u001b[0mrequest\u001b[0m\u001b[1;33m.\u001b[0m\u001b[0mbuild_opener\u001b[0m\u001b[1;33m(\u001b[0m\u001b[1;33m)\u001b[0m\u001b[1;33m\u001b[0m\u001b[0m\n\u001b[0m\u001b[0;32m      4\u001b[0m \u001b[0mopener\u001b[0m\u001b[1;33m.\u001b[0m\u001b[0maddheaders\u001b[0m\u001b[1;33m=\u001b[0m\u001b[1;33m[\u001b[0m\u001b[0mheaders\u001b[0m\u001b[1;33m]\u001b[0m\u001b[1;33m\u001b[0m\u001b[0m\n\u001b[0;32m      5\u001b[0m \u001b[0murllib\u001b[0m\u001b[1;33m.\u001b[0m\u001b[0mrequest\u001b[0m\u001b[1;33m.\u001b[0m\u001b[0minstall_opener\u001b[0m\u001b[1;33m(\u001b[0m\u001b[0mopener\u001b[0m\u001b[1;33m)\u001b[0m\u001b[1;33m\u001b[0m\u001b[0m\n",
      "\u001b[1;31mNameError\u001b[0m: name 'urllib' is not defined"
     ]
    }
   ],
   "source": [
    "#第二个网页\n",
    "headers=(\"User-Agent\",\"Mozilla/5.0 (Windows NT 10.0; Win64; x64) AppleWebKit/537.36 (KHTML, like Gecko) Chrome/67.0.3396.62 Safari/537.36\")\n",
    "opener=urllib.request.build_opener()\n",
    "opener.addheaders=[headers]\n",
    "urllib.request.install_opener(opener)\n",
    "url=\"http://bioinformatics.psb.ugent.be/research/\"\n",
    "data=urllib.request.urlopen(url).read().decode(\"utf-8\",\"ignore\")\n",
    "pat='href=\"(.*?)\"'\n",
    "imagelist=re.compile(pat).findall(data)\n",
    "print(imagelist)"
   ]
  },
  {
   "cell_type": "code",
   "execution_count": 13,
   "metadata": {},
   "outputs": [
    {
     "name": "stdout",
     "output_type": "stream",
     "text": [
      "['/i/app_ui/css/Core.min.css?v=5.1.4.00.08', '/i/app_ui/css/Theme-Standard.min.css?v=5.1.4.00.08', '/i/libraries/jquery-ui/1.10.4/themes/base/jquery-ui.min.css?v=5.1.4.00.08', '/i/legacy_ui/css/5.0.min.css?v=5.1.4.00.08', '/i/navy_gray.css', 'http://metacrop.ipk-gatersleben.de', 'http://pgrc.ipk-gatersleben.de/lailapsipk', 'http://sbgn.org', 'http://sbml.org', 'http://www.ipk-gatersleben.de', 'http://www.ipk-gatersleben.de', 'f?p=269:3:::NO:::', 'f?p=269:4:::NO:::', 'f?p=269:8:::NO:::', 'f?p=269:19:::NO:::', 'f?p=269:20:::NO:::', \"javascript:apex.submit('T_ABOUT');\", 'f?p=269:101:::NO:::', 'javascript:apex.submit(%7Brequest:&#x27;10&#x27;%7D);', 'javascript:apex.submit(%7Brequest:&#x27;9&#x27;%7D);', 'javascript:apex.submit(%7Brequest:&#x27;2&#x27;%7D);', 'javascript:apex.submit(%7Brequest:&#x27;11&#x27;%7D);', 'javascript:apex.submit(%7Brequest:&#x27;1&#x27;%7D);', 'javascript:apex.submit(%7Brequest:&#x27;36&#x27;%7D);', 'javascript:apex.submit(%7Brequest:&#x27;41&#x27;%7D);', 'javascript:apex.submit(%7Brequest:&#x27;19&#x27;%7D);', 'javascript:apex.submit(%7Brequest:&#x27;42&#x27;%7D);', 'http://nar.oxfordjournals.org/content/40/D1/D1173.full', 'f?p=269:17:::NO', 'f?p=269:14:::NO', 'f?p=269:18:::NO', 'f?p=269:12:::NO', 'f?p=269:15:::NO', 'f?p=269:16:::NO', 'http://www.ipk-gatersleben.de/Internet/Impressum']\n"
     ]
    }
   ],
   "source": [
    "#第二个网页\n",
    "headers=(\"User-Agent\",\"Mozilla/5.0 (Windows NT 10.0; Win64; x64) AppleWebKit/537.36 (KHTML, like Gecko) Chrome/67.0.3396.62 Safari/537.36\")\n",
    "opener=urllib.request.build_opener()\n",
    "opener.addheaders=[headers]\n",
    "urllib.request.install_opener(opener)\n",
    "url=\"http://bioinformatics.psb.ugent.be/research\"\n",
    "data=urllib.request.urlopen(url).read().decode(\"utf-8\",\"ignore\")\n",
    "pat='href=\"(.*?)\"'\n",
    "imagelist=re.compile(pat).findall(data)\n",
    "print(imagelist)"
   ]
  },
  {
   "cell_type": "code",
   "execution_count": 16,
   "metadata": {},
   "outputs": [
    {
     "name": "stdout",
     "output_type": "stream",
     "text": [
      "['/i/app_ui/css/Core.min.css?v=5.1.4.00.08', '/i/app_ui/css/Theme-Standard.min.css?v=5.1.4.00.08', '/i/libraries/jquery-ui/1.10.4/themes/base/jquery-ui.min.css?v=5.1.4.00.08', '/i/legacy_ui/css/5.0.min.css?v=5.1.4.00.08', '/i/navy_gray.css', 'http://metacrop.ipk-gatersleben.de', 'http://pgrc.ipk-gatersleben.de/lailapsipk', 'http://sbgn.org', 'http://sbml.org', 'http://www.ipk-gatersleben.de', 'http://www.ipk-gatersleben.de', 'f?p=269:3:::NO:::', 'f?p=269:4:::NO:::', 'f?p=269:8:::NO:::', 'f?p=269:19:::NO:::', 'f?p=269:20:::NO:::', \"javascript:apex.submit('T_ABOUT');\", 'f?p=269:101:::NO:::', 'javascript:apex.submit(%7Brequest:&#x27;10&#x27;%7D);', 'javascript:apex.submit(%7Brequest:&#x27;9&#x27;%7D);', 'javascript:apex.submit(%7Brequest:&#x27;2&#x27;%7D);', 'javascript:apex.submit(%7Brequest:&#x27;11&#x27;%7D);', 'javascript:apex.submit(%7Brequest:&#x27;1&#x27;%7D);', 'javascript:apex.submit(%7Brequest:&#x27;36&#x27;%7D);', 'javascript:apex.submit(%7Brequest:&#x27;41&#x27;%7D);', 'javascript:apex.submit(%7Brequest:&#x27;19&#x27;%7D);', 'javascript:apex.submit(%7Brequest:&#x27;42&#x27;%7D);', 'http://nar.oxfordjournals.org/content/40/D1/D1173.full', 'f?p=269:17:::NO', 'f?p=269:14:::NO', 'f?p=269:18:::NO', 'f?p=269:12:::NO', 'f?p=269:15:::NO', 'f?p=269:16:::NO', 'http://www.ipk-gatersleben.de/Internet/Impressum']\n"
     ]
    }
   ],
   "source": [
    "#第8个网页\n",
    "headers=(\"User-Agent\",\"Mozilla/5.0 (Windows NT 10.0; Win64; x64) AppleWebKit/537.36 (KHTML, like Gecko) Chrome/67.0.3396.62 Safari/537.36\")\n",
    "opener=urllib.request.build_opener()\n",
    "opener.addheaders=[headers]\n",
    "urllib.request.install_opener(opener)\n",
    "url=\"http://metacrop.ipk-gatersleben.de/apex/f?p=269:111::::::\"\n",
    "data=urllib.request.urlopen(url).read().decode(\"utf-8\",\"ignore\")\n",
    "pat='href=\"(.*?)\"'\n",
    "imagelist=re.compile(pat).findall(data)\n",
    "print(imagelist)\n"
   ]
  },
  {
   "cell_type": "code",
   "execution_count": 21,
   "metadata": {},
   "outputs": [
    {
     "name": "stdout",
     "output_type": "stream",
     "text": [
      "['/xapple-touch-icon.png.pagespeed.ic.-j55QiCEMA.png', '/xfavicon-32x32.png,qv=2.pagespeed.ic.HMa7IOCmEd.png', '/xfavicon-16x16.png,qv=2.pagespeed.ic.tMhLUUHgKH.png', '/site.webmanifest', '/safari-pinned-tab.svg', 'https://www.jcvi.org/favicon.ico', 'https://www.jcvi.org/research', 'https://www.jcvi.org/node/28', '/', '/careers', '/contact', '#', '/about', '/about/leadership', '/policy-center', '/jcvi-la-jolla-sustainable-laboratory-facility', '/educational-outreach', '/j-craig-venter-institute-archives', '#', '/research', '/infectious-disease', '/mammalian-genomics', '/microbial-environmental-genomics', '/synthetic-biology', '/publications', '/jcvi-innovation-fund', '#', '/blog', '/press', '/careers', '/contact', '#', '/', '/infectious-disease', '/mammalian-genomics', '/microbial-environmental-genomics', '/synthetic-biology', '/biomarker-discovery-proteomics-and-flowgate', '/center-single-cell-genomics', '/human-microbiome-studies', '/informatics', '/jcvi-innovation-fund', '/microbial-forensics', '/plant-genomics', '/policy-center', '/internet-usage-privacy-statement', '/acknowledgement-data-use', '/jcvi-policy-promoting-objectivity-research-under-public-health-service-regulations', '/small-business-liaison-office', 'https://twitter.com/JCVenterInst', 'https://www.facebook.com/JCraigVenterInstitute/', 'https://www.linkedin.com/company/j-craig-venter-institute/', 'https://www.instagram.com/jcventerinstitute/', 'https://www.youtube.com/channel/UCJeCyN9dySXpO1MwYLK9HAQ', 'https://www.jcvi.org/sites/default/files/css/A.css_xE-rWrJf-fncB6ztZfd2huxqgxu4WO-qwma6Xer30m4.css+css_P06b8AMR_hhh6sJRuQ-C6fQP-3TpPFbQoCgQ447suCw.css+css_PGbJgHCUCBf4dg7K9Kt8aAwsApndP4GZ9RuToPy3-Fk.css+css_56Nb1SSxeRJ9JoOpKBDRpuB_jNev3234w_Td7T8O3Ec.css,Mcc.Qdz6Ukzftr.css.pagespeed.cf.W-2YfEddZ6.css']\n"
     ]
    }
   ],
   "source": [
    "#第10个网页\n",
    "import urllib.request\n",
    "import re\n",
    "headers=(\"User-Agent\",\"Mozilla/5.0 (Windows NT 10.0; Win64; x64) AppleWebKit/537.36 (KHTML, like Gecko) Chrome/67.0.3396.62 Safari/537.36\")\n",
    "opener=urllib.request.build_opener()\n",
    "opener.addheaders=[headers]\n",
    "urllib.request.install_opener(opener)\n",
    "url=\"https://www.jcvi.org/research\"\n",
    "data=urllib.request.urlopen(url).read().decode(\"utf-8\",\"ignore\")\n",
    "pat='href=\"(.*?)\"'\n",
    "imagelist=re.compile(pat).findall(data)\n",
    "print(imagelist)"
   ]
  },
  {
   "cell_type": "code",
   "execution_count": null,
   "metadata": {},
   "outputs": [],
   "source": [
    "#第10个网页\n",
    "import urllib.request\n",
    "import re\n",
    "headers=(\"User-Agent\",\"Mozilla/5.0 (Windows NT 10.0; Win64; x64) AppleWebKit/537.36 (KHTML, like Gecko) Chrome/67.0.3396.62 Safari/537.36\")\n",
    "opener=urllib.request.build_opener()\n",
    "opener.addheaders=[headers]\n",
    "urllib.request.install_opener(opener)\n",
    "url=\"https://www.jcvi.org/research\"\n",
    "data=urllib.request.urlopen(url).read().decode(\"utf-8\",\"ignore\")\n",
    "pat='href=\"(.*?)\"'\n",
    "imagelist=re.compile(pat).findall(data)\n",
    "print(imagelist)"
   ]
  },
  {
   "cell_type": "code",
   "execution_count": null,
   "metadata": {},
   "outputs": [],
   "source": [
    "\n",
    "#第14个网页\n",
    "import urllib.request\n",
    "import re\n",
    "headers=(\"User-Agent\",\"Mozilla/5.0 (Windows NT 10.0; Win64; x64) AppleWebKit/537.36 (KHTML, like Gecko) Chrome/67.0.3396.62 Safari/537.36\")\n",
    "opener=urllib.request.build_opener()\n",
    "opener.addheaders=[headers]\n",
    "urllib.request.install_opener(opener)\n",
    "url=\"https://wheat.pw.usda.gov/GG3/search-page\"\n",
    "data=urllib.request.urlopen(url).read().decode(\"utf-8\",\"ignore\")\n",
    "pat='href=\"(.*?)\"'\n",
    "imagelist=re.compile(pat).findall(data)\n",
    "print(imagelist)"
   ]
  },
  {
   "cell_type": "code",
   "execution_count": null,
   "metadata": {},
   "outputs": [],
   "source": [
    "\n",
    "    \n",
    "#第14个网页\n",
    "import urllib.request\n",
    "import re\n",
    "headers=(\"User-Agent\",\"Mozilla/5.0 (Windows NT 10.0; Win64; x64) AppleWebKit/537.36 (KHTML, like Gecko) Chrome/67.0.3396.62 Safari/537.36\")\n",
    "opener=urllib.request.build_opener()\n",
    "opener.addheaders=[headers]\n",
    "urllib.request.install_opener(opener)\n",
    "url=\"http://www.pathoplant.de/search.php\"\n",
    "data=urllib.request.urlopen(url).read().decode(\"utf-8\",\"ignore\")\n",
    "pat='href=\"(.*?)\"'\n",
    "imagelist=re.compile(pat).findall(data)\n",
    "print(imagelist)"
   ]
  },
  {
   "cell_type": "code",
   "execution_count": null,
   "metadata": {},
   "outputs": [],
   "source": [
    "\n",
    "    \n",
    "    \n",
    "#第14个网页\n",
    "import urllib.request\n",
    "import re\n",
    "headers=(\"User-Agent\",\"Mozilla/5.0 (Windows NT 10.0; Win64; x64) AppleWebKit/537.36 (KHTML, like Gecko) Chrome/67.0.3396.62 Safari/537.36\")\n",
    "opener=urllib.request.build_opener()\n",
    "opener.addheaders=[headers]\n",
    "urllib.request.install_opener(opener)\n",
    "url=\"http://www.plantgdb.org/search/\"\n",
    "data=urllib.request.urlopen(url).read().decode(\"utf-8\",\"ignore\")\n",
    "pat='href=\"(.*?)\"'\n",
    "imagelist=re.compile(pat).findall(data)\n",
    "print(imagelist)"
   ]
  },
  {
   "cell_type": "code",
   "execution_count": null,
   "metadata": {},
   "outputs": [],
   "source": [
    "\n",
    "    \n",
    "    \n",
    "#第14个网页\n",
    "import urllib.request\n",
    "import re\n",
    "headers=(\"User-Agent\",\"Mozilla/5.0 (Windows NT 10.0; Win64; x64) AppleWebKit/537.36 (KHTML, like Gecko) Chrome/67.0.3396.62 Safari/537.36\")\n",
    "opener=urllib.request.build_opener()\n",
    "opener.addheaders=[headers]\n",
    "urllib.request.install_opener(opener)\n",
    "url=\"http://www.plantgdb.org/search/misc/PublicPlantSeq.php\"\n",
    "data=urllib.request.urlopen(url).read().decode(\"utf-8\",\"ignore\")\n",
    "pat='href=\"(.*?)\"'\n",
    "imagelist=re.compile(pat).findall(data)\n",
    "print(imagelist)"
   ]
  },
  {
   "cell_type": "code",
   "execution_count": null,
   "metadata": {},
   "outputs": [],
   "source": [
    "\n",
    "    \n",
    "    \n",
    "#第15个网页\n",
    "import urllib.request\n",
    "import re\n",
    "headers=(\"User-Agent\",\"Mozilla/5.0 (Windows NT 10.0; Win64; x64) AppleWebKit/537.36 (KHTML, like Gecko) Chrome/67.0.3396.62 Safari/537.36\")\n",
    "opener=urllib.request.build_opener()\n",
    "opener.addheaders=[headers]\n",
    "urllib.request.install_opener(opener)\n",
    "url=\"http://www.plantgdb.org/search/\"\n",
    "data=urllib.request.urlopen(url).read().decode(\"utf-8\",\"ignore\")\n",
    "pat='href=\"(.*?)\"'\n",
    "imagelist=re.compile(pat).findall(data)\n",
    "print(imagelist)"
   ]
  },
  {
   "cell_type": "code",
   "execution_count": null,
   "metadata": {},
   "outputs": [],
   "source": [
    "\n",
    "    \n",
    "    \n",
    "#第16个网页\n",
    "import urllib.request\n",
    "import re\n",
    "headers=(\"User-Agent\",\"Mozilla/5.0 (Windows NT 10.0; Win64; x64) AppleWebKit/537.36 (KHTML, like Gecko) Chrome/67.0.3396.62 Safari/537.36\")\n",
    "opener=urllib.request.build_opener()\n",
    "opener.addheaders=[headers]\n",
    "urllib.request.install_opener(opener)\n",
    "url=\"http://browser.planteome.org/amigo/search/ontology?q=\"\n",
    "data=urllib.request.urlopen(url).read().decode(\"utf-8\",\"ignore\")\n",
    "pat='href=\"(.*?)\"'\n",
    "imagelist=re.compile(pat).findall(data)\n",
    "print(imagelist)"
   ]
  },
  {
   "cell_type": "code",
   "execution_count": null,
   "metadata": {},
   "outputs": [],
   "source": [
    "\n",
    "    \n",
    "    \n",
    "#第16个网页\n",
    "import urllib.request\n",
    "import re\n",
    "headers=(\"User-Agent\",\"Mozilla/5.0 (Windows NT 10.0; Win64; x64) AppleWebKit/537.36 (KHTML, like Gecko) Chrome/67.0.3396.62 Safari/537.36\")\n",
    "opener=urllib.request.build_opener()\n",
    "opener.addheaders=[headers]\n",
    "urllib.request.install_opener(opener)\n",
    "url=\"http://chloroplast.cbio.psu.edu/papers.html\"\n",
    "data=urllib.request.urlopen(url).read().decode(\"utf-8\",\"ignore\")\n",
    "pat='href=\"(.*?)\"'\n",
    "imagelist=re.compile(pat).findall(data)\n",
    "print(imagelist)"
   ]
  },
  {
   "cell_type": "code",
   "execution_count": null,
   "metadata": {},
   "outputs": [],
   "source": [
    "#第16个网页\n",
    "import urllib.request\n",
    "import re\n",
    "headers=(\"User-Agent\",\"Mozilla/5.0 (Windows NT 10.0; Win64; x64) AppleWebKit/537.36 (KHTML, like Gecko) Chrome/67.0.3396.62 Safari/537.36\")\n",
    "opener=urllib.request.build_opener()\n",
    "opener.addheaders=[headers]\n",
    "urllib.request.install_opener(opener)\n",
    "url=\"http://chloroplast.cbio.psu.edu/papers.html\"\n",
    "data=urllib.request.urlopen(url).read().decode(\"utf-8\",\"ignore\")\n",
    "pat='href=\"(.*?)\"'\n",
    "imagelist=re.compile(pat).findall(data)\n",
    "print(imagelist)"
   ]
  },
  {
   "cell_type": "code",
   "execution_count": null,
   "metadata": {},
   "outputs": [],
   "source": [
    "\n",
    "    #第17个网页\n",
    "import urllib.request\n",
    "import re\n",
    "headers=(\"User-Agent\",\"Mozilla/5.0 (Windows NT 10.0; Win64; x64) AppleWebKit/537.36 (KHTML, like Gecko) Chrome/67.0.3396.62 Safari/537.36\")\n",
    "opener=urllib.request.build_opener()\n",
    "opener.addheaders=[headers]\n",
    "urllib.request.install_opener(opener)\n",
    "url=\"http://bioinfo.cau.edu.cn/agriGO/search.php\"\n",
    "data=urllib.request.urlopen(url).read().decode(\"utf-8\",\"ignore\")\n",
    "pat='href=\"(.*?)\"'\n",
    "imagelist=re.compile(pat).findall(data)\n",
    "print(imagelist)"
   ]
  },
  {
   "cell_type": "code",
   "execution_count": null,
   "metadata": {},
   "outputs": [],
   "source": [
    "\n",
    "    #第18个网页\n",
    "import urllib.request\n",
    "import re\n",
    "headers=(\"User-Agent\",\"Mozilla/5.0 (Windows NT 10.0; Win64; x64) AppleWebKit/537.36 (KHTML, like Gecko) Chrome/67.0.3396.62 Safari/537.36\")\n",
    "opener=urllib.request.build_opener()\n",
    "opener.addheaders=[headers]\n",
    "urllib.request.install_opener(opener)\n",
    "url=\"http://planttfdb.cbi.pku.edu.cn/\"\n",
    "data=urllib.request.urlopen(url).read().decode(\"utf-8\",\"ignore\")\n",
    "pat='href=\"(.*?)\"'\n",
    "imagelist=re.compile(pat).findall(data)\n",
    "print(imagelist)"
   ]
  },
  {
   "cell_type": "code",
   "execution_count": null,
   "metadata": {},
   "outputs": [],
   "source": [
    "\n",
    "    #第19个网页\n",
    "import urllib.request\n",
    "import re\n",
    "headers=(\"User-Agent\",\"Mozilla/5.0 (Windows NT 10.0; Win64; x64) AppleWebKit/537.36 (KHTML, like Gecko) Chrome/67.0.3396.62 Safari/537.36\")\n",
    "opener=urllib.request.build_opener()\n",
    "opener.addheaders=[headers]\n",
    "urllib.request.install_opener(opener)\n",
    "url=\"http://plantbiol.genetics.ac.cn/cgi-bin/searchsample.cgi\"\n",
    "data=urllib.request.urlopen(url).read().decode(\"utf-8\",\"ignore\")\n",
    "pat='href=\"(.*?)\"'\n",
    "imagelist=re.compile(pat).findall(data)\n",
    "print(imagelist)"
   ]
  },
  {
   "cell_type": "code",
   "execution_count": null,
   "metadata": {},
   "outputs": [],
   "source": [
    "\n",
    "    #第20个网页\n",
    "import urllib.request\n",
    "import re\n",
    "headers=(\"User-Agent\",\"Mozilla/5.0 (Windows NT 10.0; Win64; x64) AppleWebKit/537.36 (KHTML, like Gecko) Chrome/67.0.3396.62 Safari/537.36\")\n",
    "opener=urllib.request.build_opener()\n",
    "opener.addheaders=[headers]\n",
    "urllib.request.install_opener(opener)\n",
    "url=\"http://planttfdb.cbi.pku.edu.cn/quick_search_result.php\"\n",
    "data=urllib.request.urlopen(url).read().decode(\"utf-8\",\"ignore\")\n",
    "pat='href=\"(.*?)\"'\n",
    "imagelist=re.compile(pat).findall(data)\n",
    "print(imagelist)"
   ]
  },
  {
   "cell_type": "code",
   "execution_count": null,
   "metadata": {},
   "outputs": [],
   "source": [
    "\n",
    "    #第21个网页\n",
    "import urllib.request\n",
    "import re\n",
    "headers=(\"User-Agent\",\"Mozilla/5.0 (Windows NT 10.0; Win64; x64) AppleWebKit/537.36 (KHTML, like Gecko) Chrome/67.0.3396.62 Safari/537.36\")\n",
    "opener=urllib.request.build_opener()\n",
    "opener.addheaders=[headers]\n",
    "urllib.request.install_opener(opener)\n",
    "url=\"http://proteome.dc.affrc.go.jp/cgi-bin/2d/2d.cgi\"\n",
    "data=urllib.request.urlopen(url).read().decode(\"utf-8\",\"ignore\")\n",
    "pat='href=\"(.*?)\"'\n",
    "imagelist=re.compile(pat).findall(data)\n",
    "print(imagelist)"
   ]
  },
  {
   "cell_type": "code",
   "execution_count": null,
   "metadata": {},
   "outputs": [],
   "source": [
    "\n",
    "    #第22个网页\n",
    "import urllib.request\n",
    "import re\n",
    "headers=(\"User-Agent\",\"Mozilla/5.0 (Windows NT 10.0; Win64; x64) AppleWebKit/537.36 (KHTML, like Gecko) Chrome/67.0.3396.62 Safari/537.36\")\n",
    "opener=urllib.request.build_opener()\n",
    "opener.addheaders=[headers]\n",
    "urllib.request.install_opener(opener)\n",
    "url=\"https://urgi.versailles.inra.fr/phytoprot/\"\n",
    "data=urllib.request.urlopen(url).read().decode(\"utf-8\",\"ignore\")\n",
    "pat='href=\"(.*?)\"'\n",
    "imagelist=re.compile(pat).findall(data)\n",
    "print(imagelist)"
   ]
  },
  {
   "cell_type": "code",
   "execution_count": null,
   "metadata": {},
   "outputs": [],
   "source": [
    "\n",
    "    #第23个网页\n",
    "import urllib.request\n",
    "import re\n",
    "headers=(\"User-Agent\",\"Mozilla/5.0 (Windows NT 10.0; Win64; x64) AppleWebKit/537.36 (KHTML, like Gecko) Chrome/67.0.3396.62 Safari/537.36\")\n",
    "opener=urllib.request.build_opener()\n",
    "opener.addheaders=[headers]\n",
    "urllib.request.install_opener(opener)\n",
    "url=\"https://biosciencedbc.jp/dbsearch/result.php?lang=en&page=1&target_node=lsdb&target_node_type=category&phrase=\"\n",
    "data=urllib.request.urlopen(url).read().decode(\"utf-8\",\"ignore\")\n",
    "pat='href=\"(.*?)\"'\n",
    "imagelist=re.compile(pat).findall(data)\n",
    "print(imagelist)"
   ]
  },
  {
   "cell_type": "code",
   "execution_count": null,
   "metadata": {},
   "outputs": [],
   "source": [
    "\n",
    "    #第24个网页\n",
    "import urllib.request\n",
    "import re\n",
    "headers=(\"User-Agent\",\"Mozilla/5.0 (Windows NT 10.0; Win64; x64) AppleWebKit/537.36 (KHTML, like Gecko) Chrome/67.0.3396.62 Safari/537.36\")\n",
    "opener=urllib.request.build_opener()\n",
    "opener.addheaders=[headers]\n",
    "urllib.request.install_opener(opener)\n",
    "url=\"http://www.plexdb.org//modules/PD_browse/queryExperiments.php\"\n",
    "data=urllib.request.urlopen(url).read().decode(\"utf-8\",\"ignore\")\n",
    "pat='href=\"(.*?)\"'\n",
    "imagelist=re.compile(pat).findall(data)\n",
    "print(imagelist)"
   ]
  },
  {
   "cell_type": "code",
   "execution_count": null,
   "metadata": {},
   "outputs": [],
   "source": [
    "    #第25个网页\n",
    "import urllib.request\n",
    "import re\n",
    "headers=(\"User-Agent\",\"Mozilla/5.0 (Windows NT 10.0; Win64; x64) AppleWebKit/537.36 (KHTML, like Gecko) Chrome/67.0.3396.62 Safari/537.36\")\n",
    "opener=urllib.request.build_opener()\n",
    "opener.addheaders=[headers]\n",
    "urllib.request.install_opener(opener)\n",
    "url=\"https://biosciencedbc.jp/dbsearch/result.php?lang=en&page=1&target_node=lsdb&target_node_type=category&phrase=\"\n",
    "data=urllib.request.urlopen(url).read().decode(\"utf-8\",\"ignore\")\n",
    "pat='href=\"(.*?)\"'\n",
    "imagelist=re.compile(pat).findall(data)\n",
    "print(imagelist)"
   ]
  },
  {
   "cell_type": "code",
   "execution_count": null,
   "metadata": {},
   "outputs": [],
   "source": [
    "\n",
    "    #第26个网页\n",
    "import urllib.request\n",
    "import re\n",
    "headers=(\"User-Agent\",\"Mozilla/5.0 (Windows NT 10.0; Win64; x64) AppleWebKit/537.36 (KHTML, like Gecko) Chrome/67.0.3396.62 Safari/537.36\")\n",
    "opener=urllib.request.build_opener()\n",
    "opener.addheaders=[headers]\n",
    "urllib.request.install_opener(opener)\n",
    "url=\"view-source:http://www.gramene.org/\"\n",
    "data=urllib.request.urlopen(url).read().decode(\"utf-8\",\"ignore\")\n",
    "pat='href=\"(.*?)\"'\n",
    "imagelist=re.compile(pat).findall(data)\n",
    "print(imagelist)"
   ]
  },
  {
   "cell_type": "code",
   "execution_count": null,
   "metadata": {},
   "outputs": [],
   "source": [
    "\n",
    "    #第27个网页\n",
    "import urllib.request\n",
    "import re\n",
    "headers=(\"User-Agent\",\"Mozilla/5.0 (Windows NT 10.0; Win64; x64) AppleWebKit/537.36 (KHTML, like Gecko) Chrome/67.0.3396.62 Safari/537.36\")\n",
    "opener=urllib.request.build_opener()\n",
    "opener.addheaders=[headers]\n",
    "urllib.request.install_opener(opener)\n",
    "url=\"view-source:http://gbrowse.ncpgr.cn/cgi-bin/gbrowse/japonica/#search\"\n",
    "data=urllib.request.urlopen(url).read().decode(\"utf-8\",\"ignore\")\n",
    "pat='href=\"(.*?)\"'\n",
    "imagelist=re.compile(pat).findall(data)\n",
    "print(imagelist)"
   ]
  },
  {
   "cell_type": "code",
   "execution_count": null,
   "metadata": {},
   "outputs": [],
   "source": [
    "\n",
    "        \n",
    "#第28个网页\n",
    "import urllib.request\n",
    "import re\n",
    "headers=(\"User-Agent\",\"Mozilla/5.0 (Windows NT 10.0; Win64; x64) AppleWebKit/537.36 (KHTML, like Gecko) Chrome/67.0.3396.62 Safari/537.36\")\n",
    "opener=urllib.request.build_opener()\n",
    "opener.addheaders=[headers]\n",
    "urllib.request.install_opener(opener)\n",
    "url=\"view-source:http://pgsb.helmholtz-muenchen.de/plant/keyword_search.jsp\"\n",
    "data=urllib.request.urlopen(url).read().decode(\"utf-8\",\"ignore\")\n",
    "pat='href=\"(.*?)\"'\n",
    "imagelist=re.compile(pat).findall(data)\n",
    "print(imagelist)"
   ]
  },
  {
   "cell_type": "code",
   "execution_count": 1,
   "metadata": {},
   "outputs": [
    {
     "name": "stdout",
     "output_type": "stream",
     "text": [
      "['/css/search.css', '/css/print.css', '/index.html', '/', '/news.html', '/about/about.html', '#', '/viewer/gbrowse/irgsp1/?name=chr01%3A1..50000', 'http://ricegenomes.dna.affrc.go.jp/', '#', '/tools/blast', '/tools/blat', '/tools/converter', '/tools/search', '/tools/dump', '/tools/B5Search', '/tools/B5Search/list', '/download/irgsp1.html', '#', '/rice_docs/docs_genome_statistics.html', '/rice_docs/docs_genes_statistics.html', '/notes/notes_genome_inconsistency.html', '/notes/notes_gene_nomenclature.html', '/rice_docs/docs_orgenes.html', '/publications/publications.html', '/links.html', '/', '/tools/search/advanced', '/contact.html', '/contact.html', '#', 'https://twitter.com/rapdbjp', '#']\n"
     ]
    }
   ],
   "source": [
    "#数据库部分\n",
    "        \n",
    "#第29个网页\n",
    "import urllib.request\n",
    "import re\n",
    "headers=(\"User-Agent\",\"Mozilla/5.0 (Windows NT 10.0; Win64; x64) AppleWebKit/537.36 (KHTML, like Gecko) Chrome/67.0.3396.62 Safari/537.36\")\n",
    "opener=urllib.request.build_opener()\n",
    "opener.addheaders=[headers]\n",
    "urllib.request.install_opener(opener)\n",
    "url=\"https://rapdb.dna.affrc.go.jp/tools/search/run?keyword=Keywords&id=on&attr=desc&attr=cgs&attr=cgn&attr=cgss&attr=cgns&attr=rgss&attr=rgns\"\n",
    "data=urllib.request.urlopen(url).read().decode(\"utf-8\",\"ignore\")\n",
    "pat='href=\"(.*?)\"'\n",
    "imagelist=re.compile(pat).findall(data)\n",
    "print(imagelist)"
   ]
  },
  {
   "cell_type": "code",
   "execution_count": null,
   "metadata": {},
   "outputs": [],
   "source": [
    "#从这个开始\n",
    "        \n",
    "#第28个网页\n",
    "import urllib.request\n",
    "import re\n",
    "headers=(\"User-Agent\",\"Mozilla/5.0 (Windows NT 10.0; Win64; x64) AppleWebKit/537.36 (KHTML, like Gecko) Chrome/67.0.3396.62 Safari/537.36\")\n",
    "opener=urllib.request.build_opener()\n",
    "opener.addheaders=[headers]\n",
    "urllib.request.install_opener(opener)\n",
    "url=\"view-source:http://pgsb.helmholtz-muenchen.de/plant/keyword_search.jsp\"\n",
    "data=urllib.request.urlopen(url).read().decode(\"utf-8\",\"ignore\")\n",
    "pat='href=\"(.*?)\"'\n",
    "imagelist=re.compile(pat).findall(data)\n",
    "print(imagelist)"
   ]
  },
  {
   "cell_type": "code",
   "execution_count": null,
   "metadata": {},
   "outputs": [],
   "source": [
    "\n",
    "        \n",
    "#第28个网页\n",
    "import urllib.request\n",
    "import re\n",
    "headers=(\"User-Agent\",\"Mozilla/5.0 (Windows NT 10.0; Win64; x64) AppleWebKit/537.36 (KHTML, like Gecko) Chrome/67.0.3396.62 Safari/537.36\")\n",
    "opener=urllib.request.build_opener()\n",
    "opener.addheaders=[headers]\n",
    "urllib.request.install_opener(opener)\n",
    "url=\"view-source:http://pgsb.helmholtz-muenchen.de/plant/keyword_search.jsp\"\n",
    "data=urllib.request.urlopen(url).read().decode(\"utf-8\",\"ignore\")\n",
    "pat='href=\"(.*?)\"'\n",
    "imagelist=re.compile(pat).findall(data)\n",
    "print(imagelist)"
   ]
  },
  {
   "cell_type": "code",
   "execution_count": null,
   "metadata": {},
   "outputs": [],
   "source": []
  }
 ],
 "metadata": {
  "kernelspec": {
   "display_name": "Python 3",
   "language": "python",
   "name": "python3"
  },
  "language_info": {
   "codemirror_mode": {
    "name": "ipython",
    "version": 3
   },
   "file_extension": ".py",
   "mimetype": "text/x-python",
   "name": "python",
   "nbconvert_exporter": "python",
   "pygments_lexer": "ipython3",
   "version": "3.6.4"
  }
 },
 "nbformat": 4,
 "nbformat_minor": 2
}
