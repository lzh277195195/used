{
 "cells": [
  {
   "cell_type": "code",
   "execution_count": 2,
   "metadata": {},
   "outputs": [],
   "source": [
    "import urllib.request\n",
    "import re\n"
   ]
  },
  {
   "cell_type": "code",
   "execution_count": 17,
   "metadata": {},
   "outputs": [
    {
     "data": {
      "text/plain": [
       "'<!DOCTYPE html><html lang=\"zh-CN\" class=\" is-anonymous\" ><head><meta charset=\"utf-8\"><meta http-equiv=\"Pragma\" content=\"no-cache\"><meta http-equiv=\"X-UA-Compatible\" content=\"IE=edge,chrome=1\"><meta http-equiv=\"Expires\" content=\"Sun, 6 Mar 2005 01:00:00 GMT\"><meta name=\"google-site-verification\" content=\"Wyui6dsg_StZ9K3rJ6xtsNbxPhELyhMkEp2MsAhviBQ\"><meta property=\"weixin:image\" content=\"https://img3.doubanio.com/f/ark/be39d339b9b95b615e95c7dc542832c3e22ace84/pics/weixin_cover_new.png\"><link rel=\"shortcut icon\" href=\"https://img3.doubanio.com/f/ark/659eb773e1f2fa4ba28fd8e0946258b85e7984d4/pics/favicon/favicon.ico\" type=\"image/x-icon\"><link rel=\"mask-icon\" href=\"https://img3.doubanio.com/f/ark/d3da4917e951bca9782cbd65f1d64e72056fb7aa/pics/favicon/safari-mask-icon.svg\" color=\"#5795aa\"><title>提供方列表 | 豆瓣阅读</title><link type=\"application/opensearchdescription+xml\" rel=\"search\" href=\"/opensearch\"/><script>\\nvar Do=function(){Do.actions.push([].slice.call(arguments))};Do.ready=function(){Do.actions.push([].slice.call(arguments))},Do.add=Do.define=function(name,opts){Do.mods[name]=opts},Do.global=function(){Do.global.mods=Array.prototype.concat(Do.global.mods,[].slice.call(arguments))},Do.global.mods=[],Do.mods={},Do.actions=[];\\n</script><link href=\"https://img3.doubanio.com/f/ark/f3638a264bfd260a262860ea8b23e0042619e538/css/store/main.css\" rel=\"stylesheet\"/><script src=\"https://img3.doubanio.com/f/ark/008728896b1d6eb8079cfb1da528ae16bd224553/js/lib/define.js\"></script><script>\\n  define.ns(\\'Ark\\')\\n  define.config({\\n    \\'jquery\\': \\'$\\'\\n  , \\'piwik\\': \\'Piwik\\'\\n  , \\'mod/ga\\': \\'Ark.ga\\'\\n  , \\'mod/cookie\\': \\'Ark.cookie\\'\\n  , \\'mod/ajax\\': \\'Ark.ajax\\'\\n  , \\'mod/emitter\\': \\'Ark.Emitter\\'\\n  , \\'mod/lang\\': \\'Ark._\\'\\n  , \\'mod/template\\': \\'Ark.template\\'\\n  , \\'mod/url\\': \\'Ark.url\\'\\n  , \\'ui/slide\\': \\'Ark.Slide\\'\\n  , \\'ui/overlay\\': \\'Ark.overlay\\'\\n  , \\'ui/dialog\\': \\'Ark.dialog\\'\\n  , \\'widget/profile\\': \\'Ark.profile\\'\\n  })\\n\\n  Do.add(\\'common\\', {\\n    path: \"https://img3.doubanio.com/f/ark/a0b3f0a19bbfc7a7a0b69a68d6535e699c7c03f5/js/mod/common.js\"\\n  , type: \\'js\\'\\n  })\\n\\n  Do.add(\\'mod/cookie\\', {\\n    path: \"https://img3.doubanio.com/f/ark/c6df3ed9983e0976b97065f61c9360e92a8ceb14/js/mod/cookie.js\"\\n  , type: \\'js\\'\\n  })\\n\\n  Do.add(\\'mod/ajax\\', {\\n    path: \"https://img3.doubanio.com/f/ark/545a8e9800bbd85a100fbb4a5937d576a56d8e7b/js/mod/ajax.js\"\\n      , requires: [\\'mod/cookie\\']\\n    , type: \\'js\\'\\n  })\\n\\n  Do.add(\\'mod/ga\\', {\\n    path: \"https://img3.doubanio.com/f/ark/28d0301da87d6665cbada654f444ac6e14d77cf7/js/mod/ga.js\"\\n  , type: \\'js\\'\\n  })\\n\\n  Do.add(\\'mod/lang\\', {\\n    path: \"https://img3.doubanio.com/f/ark/38757b09c0a4a1b9fbd70df51717870e471e6e34/js/mod/lang.js\"\\n  , type: \\'js\\'\\n  })\\n\\n  Do.add(\\'mod/emitter\\', {\\n    path: \"https://img3.doubanio.com/f/ark/d97d4d7d5d37a671b9a4003ef4e953f7f493022b/js/mod/emitter.js\"\\n  , requires: [\\'mod/lang\\']\\n  , type: \\'js\\'\\n  })\\n\\n  Do.add(\\'mod/template\\', {\\n    path: \"https://img3.doubanio.com/f/ark/ea49b2c6322cb90f6e34a54e2c27350a96cc6757/js/mod/template.js\"\\n  , requires: [\\'mod/lang\\']\\n  , type: \\'js\\'\\n  })\\n\\n  Do.add(\\'mod/url\\', {\\n    path: \"https://img3.doubanio.com/f/ark/6dca3a50c972874ee9e8d1a227db9a4483958abb/js/mod/url.js\"\\n  , type: \\'js\\'\\n  })\\n\\n  Do.add(\\'widget/profile\\', {\\n    path: \"https://img3.doubanio.com/f/ark/72d288a3e4b62881d1cd155796f2b0c01bd57c8b/js/widget/profile.js\"\\n  , requires: [\\'mod/template\\', \\'mod/cookie\\']\\n  , type: \\'js\\'\\n  })\\n\\n  Do.add(\\'ui/slide\\', {\\n    path: \\'https://img3.doubanio.com/f/ark/4b894abf9601fc55ed97083c99196ff84654fa9c/js/ui/slide.js\\'\\n  , requires: [\\'mod/emitter\\']\\n  , type: \\'js\\'\\n  })\\n\\n  Do.add(\\'ui/overlay\\', {\\n    path: \\'https://img3.doubanio.com/f/ark/b499e5d8c93c45fa94dd6697dfb61f93b7807e00/js/ui/overlay.js\\'\\n  , requires: [\\'mod/emitter\\']\\n  , type: \\'js\\'\\n  })\\n\\n  Do.add(\\'ui/dialog\\', {\\n    path: \\'https://img3.doubanio.com/f/ark/b3a1dadfe2fc54320de686f086fa09435585e8e8/js/ui/dialog.js\\'\\n  , requires: [\\'ui/overlay\\', \\'mod/emitter\\']\\n  , type: \\'js\\'\\n  })\\n</script><script>\\ndefine.config({\\n  \\'widget/purchase-mixin/ga\\': \\'Ark.PurchaseMixinGa\\'\\n, \\'widget/afford-gift\\': \\'Ark.AffordGiftWidget\\'\\n, \\'lib/fsm\\': \\'StateMachine\\'\\n})\\n\\nDo.add(\\'search\\', {\\n  path: \"https://img3.doubanio.com/f/ark/15b36c78900a53b66ceeeb87751badc98199f336/js/store/search.js\",\\n  requires: [\\'mod/template\\'],\\n  type: \\'js\\'\\n});\\n\\nif (typeof window.Promise !== \\'function\\' || typeof Object.assign !== \\'function\\') {\\n  Do.global(\"https://img3.doubanio.com/f/ark/b4f0d1bd7d54bca571e1ba6f32112b0b88093fc2/js/lib/core-js/shim.js\")\\n}\\n\\nDo(\\'common\\');</script><script>\\n    define.config({\\n      \\'widget/login-and-signup\\': \\'Ark.loginAndSignup\\'\\n    })\\n\\n    Do.add(\\'widget/login-and-signup\\'\\n      , { path: \\'https://img3.doubanio.com/f/ark/d49ac5eb3aa2dc1f2c8ec25361c3bbd55055f7b6/js/widget/login-and-signup.js\\'\\n        , requires: [\\'ui/dialog\\']\\n        , type: \\'js\\'})\\n\\n    Do.add(\\'widget/store/login-and-signup\\'\\n      , { path: \\'https://img3.doubanio.com/f/ark/39126a6aebbaadba81ea72420f34f3ace1502b32/js/store/widget/login-and-signup.js\\'\\n        , requires: [\\'widget/login-and-signup\\', \\'mod/ga\\']\\n        , type: \\'js\\'})\\n\\n    var Ark = Ark || {}\\n    Ark.DOUBAN_LOGIN_POPUP_URL = \\'https://accounts.douban.com/popup/login\\'\\n    Do(\\'widget/store/login-and-signup\\')\\n  </script><link href=\"https://img3.doubanio.com/f/ark/e2c6c4c1f1ab4ddb74af095f82421616f4b47c1a/css/store/provider/all.css\" rel=\"stylesheet\"/><script>\\n(function(i,s,o,g,r,a,m){i[\\'GoogleAnalyticsObject\\']=r;i[r]=i[r]||function(){\\n(i[r].q=i[r].q||[]).push(arguments)},i[r].l=1*new Date();a=s.createElement(o),\\nm=s.getElementsByTagName(o)[0];a.async=1;a.src=g;m.parentNode.insertBefore(a,m)\\n})(window,document,\\'script\\',\\'//www.google-analytics.com/analytics.js\\',\\'ga\\');</script><script>\\nga(\\'create\\', \\'UA-7019765-12\\');</script></head><body itemscope itemtype=\"http://schema.org/WebPage\"><div class=\"wrapper\"><header><div class=\"top-info\"><div class=\"inner\"><h1 title=\"豆瓣阅读\" class=\"logo\"><a href=\"/\">豆瓣阅读</a></h1><form action=\"/search\" method=\"get\" id=\"frm-search\"><input type=\"text\" name=\"q\" maxlength=\"60\" size=\"22\" value=\"\" placeholder=\"作品 / 电子书 / 专栏连载 / 作者 / 出版社\" autocomplete=\"off\" id=\"input-query\"/><input type=\"submit\" value=\"搜索\" id=\"btn-search\"/></form><ul id=\"suggest-list\" class=\"suggests-list\"></ul><script>\\nDo(\\'search\\')</script><ul class=\"entrances\"><!-- _performtips_ --><li class=\"app-download\"><a href=\"/app/\"><span class=\"icon-phone\"></span><span class=\"btn-text\">客户端免费下载</span></a></li></ul></div></div><nav class=\"nav nav-store\"><div class=\"inner\"><ul itemscope=\"itemscope\" itemtype=\"http://schema.org/SiteNavigationElement\" class=\"nav-main items\"><li><a href=\"/\" itemprop=\"url\"><span itemprop=\"name\">原创作品</span></a></li><li><a href=\"/ebooks/\" itemprop=\"url\"><span itemprop=\"name\">电子图书</span></a></li><li><a href=\"/columns/\" itemprop=\"url\"><span itemprop=\"name\">专栏连载</span></a></li><li><a href=\"/translation/\" itemprop=\"url\"><span itemprop=\"name\">译者项目</span></a></li><li><a href=\"/competition/\" itemprop=\"url\"><span itemprop=\"name\">征文大赛</span></a><sup class=\"icon-flag flag-ing\"></sup></li><li><a href=\"/kind/0?min_price=0&amp;max_price=0\" itemprop=\"url\"><span itemprop=\"name\">免费</span></a></li><li><a href=\"/bulletins/saleofrights\" itemprop=\"url\"><span itemprop=\"name\">出版与改编 </span></a></li></ul><ul class=\"items items-minor user-info\"><li><a data-target-dialog=\"login\" href=\"https://www.douban.com/accounts/login\" class=\"login\">登录</a></li><li><a data-target-dialog=\"signup\" href=\"https://www.douban.com/accounts/register\" class=\"signup\">注册</a></li></ul></div></nav></header><div class=\"main\" ><section class=\"provider-section\"><div class=\"hd\"><h2 class=\"title\">提供方列表</h2></div><div class=\"bd\"><ul class=\"provider-index\"><li class=\"item\"><a href=\"#B\">B</a></li><li class=\"item\"><a href=\"#C\">C</a></li><li class=\"item\"><a href=\"#D\">D</a></li><li class=\"item\"><a href=\"#F\">F</a></li><li class=\"item\"><a href=\"#G\">G</a></li><li class=\"item\"><a href=\"#H\">H</a></li><li class=\"item\"><a href=\"#J\">J</a></li><li class=\"item\"><a href=\"#K\">K</a></li><li class=\"item\"><a href=\"#L\">L</a></li><li class=\"item\"><a href=\"#M\">M</a></li><li class=\"item\"><a href=\"#N\">N</a></li><li class=\"item\"><a href=\"#O\">O</a></li><li class=\"item\"><a href=\"#P\">P</a></li><li class=\"item\"><a href=\"#Q\">Q</a></li><li class=\"item\"><a href=\"#R\">R</a></li><li class=\"item\"><a href=\"#S\">S</a></li><li class=\"item\"><a href=\"#T\">T</a></li><li class=\"item\"><a href=\"#W\">W</a></li><li class=\"item\"><a href=\"#X\">X</a></li><li class=\"item\"><a href=\"#Y\">Y</a></li><li class=\"item\"><a href=\"#Z\">Z</a></li></ul><div class=\"provider-list\"><div id=\"B\" class=\"provider-group\"><div class=\"index-name\">B</div><ul class=\"provider-items\"><li><a href=\"/provider/63687123/\" class=\"provider-item\"><div class=\"col-media\"><div class=\"cm-left avatar\"><div class=\"avatar\"><img src=\"https://img3.doubanio.com/view/ark_agent_avatar/small/public/64976364bf25f8e.jpg\"/></div></div><div class=\"cm-body\"><div class=\"name\">博集天卷</div><div class=\"works-num\">1555 部作品在售</div></div></div></a></li><li><a href=\"/provider/63688723/\" class=\"provider-item\"><div class=\"col-media\"><div class=\"cm-left avatar\"><div class=\"avatar\"><img src=\"https://img3.doubanio.com/view/ark_agent_avatar/small/public/1715d3cfea0812f.jpg\"/></div></div><div class=\"cm-body\"><div class=\"name\">北京邮电大学出版社</div><div class=\"works-num\">0 部作品在售</div></div></div></a></li><li><a href=\"/provider/63689312/\" class=\"provider-item\"><div class=\"col-media\"><div class=\"cm-left avatar\"><div class=\"avatar\"><img src=\"https://img3.doubanio.com/view/ark_agent_avatar/small/public/f7b1ebf9ebfd104.jpg\"/></div></div><div class=\"cm-body\"><div class=\"name\">北京师范大学出版社</div><div class=\"works-num\">236 部作品在售</div></div></div></a></li><li><a href=\"/provider/63694181/\" class=\"provider-item\"><div class=\"col-media\"><div class=\"cm-left avatar\"><div class=\"avatar\"><img src=\"https://img3.doubanio.com/view/ark_agent_avatar/small/public/66ba53f76b15fbe.jpg\"/></div></div><div class=\"cm-body\"><div class=\"name\">百花洲文艺出版社</div><div class=\"works-num\">188 部作品在售</div></div></div></a></li><li><a href=\"/provider/63699829/\" class=\"provider-item\"><div class=\"col-media\"><div class=\"cm-left avatar\"><div class=\"avatar\"><img src=\"https://img3.doubanio.com/view/ark_agent_avatar/small/public/d7c154b028ba74e.jpg\"/></div></div><div class=\"cm-body\"><div class=\"name\">百花文艺出版社</div><div class=\"works-num\">70 部作品在售</div></div></div></a></li></ul></div><div id=\"C\" class=\"provider-group\"><div class=\"index-name\">C</div><ul class=\"provider-items\"><li><a href=\"/provider/63691835/\" class=\"provider-item\"><div class=\"col-media\"><div class=\"cm-left avatar\"><div class=\"avatar\"><img src=\"https://img3.doubanio.com/view/ark_agent_avatar/small/public/53da5270567a0c1.jpg\"/></div></div><div class=\"cm-body\"><div class=\"name\">长江数字</div><div class=\"works-num\">2 部作品在售</div></div></div></a></li><li><a href=\"/provider/63694107/\" class=\"provider-item\"><div class=\"col-media\"><div class=\"cm-left avatar\"><div class=\"avatar\"><img src=\"https://img1.doubanio.com/view/ark_agent_avatar/small/public/e3c27fee5376169.jpg\"/></div></div><div class=\"cm-body\"><div class=\"name\">重庆大学出版社</div><div class=\"works-num\">323 部作品在售</div></div></div></a></li></ul></div><div id=\"D\" class=\"provider-group\"><div class=\"index-name\">D</div><ul class=\"provider-items\"><li><a href=\"/provider/63687623/\" class=\"provider-item\"><div class=\"col-media\"><div class=\"cm-left avatar\"><div class=\"avatar\"><img src=\"https://img1.doubanio.com/view/ark_agent_avatar/small/public/131e7be76f98148.jpg\"/></div></div><div class=\"cm-body\"><div class=\"name\">东方文萃</div><div class=\"works-num\">60 部作品在售</div></div></div></a></li><li><a href=\"/provider/63688196/\" class=\"provider-item\"><div class=\"col-media\"><div class=\"cm-left avatar\"><div class=\"avatar\"><img src=\"https://img3.doubanio.com/view/ark_agent_avatar/small/public/f2728980e9de52e.jpg\"/></div></div><div class=\"cm-body\"><div class=\"name\">读客图书</div><div class=\"works-num\">896 部作品在售</div></div></div></a></li><li><a href=\"/provider/63688695/\" class=\"provider-item\"><div class=\"col-media\"><div class=\"cm-left avatar\"><div class=\"avatar\"><img src=\"https://img3.doubanio.com/view/ark_agent_avatar/small/public/af69dd7c04b9c2f.jpg\"/></div></div><div class=\"cm-body\"><div class=\"name\">电子工业出版社</div><div class=\"works-num\">564 部作品在售</div></div></div></a></li><li><a href=\"/provider/63692311/\" class=\"provider-item\"><div class=\"col-media\"><div class=\"cm-left avatar\"><div class=\"avatar\"><img src=\"https://img1.doubanio.com/view/ark_agent_avatar/small/public/cb38ffcbd6b0bbb.jpg\"/></div></div><div class=\"cm-body\"><div class=\"name\">当代中国出版社</div><div class=\"works-num\">0 部作品在售</div></div></div></a></li><li><a href=\"/provider/63693834/\" class=\"provider-item\"><div class=\"col-media\"><div class=\"cm-left avatar\"><div class=\"avatar\"><img src=\"https://img1.doubanio.com/view/ark_agent_avatar/small/public/fda09207dd67fbc.jpg\"/></div></div><div class=\"cm-body\"><div class=\"name\">第一财经周刊</div><div class=\"works-num\">70 部作品在售</div></div></div></a></li><li><a href=\"/provider/63687084/\" class=\"provider-item\"><div class=\"col-media\"><div class=\"cm-left avatar\"><div class=\"avatar\"><img src=\"https://img3.doubanio.com/view/ark_agent_avatar/small/public/56d08bcdc960ca5.jpg\"/></div></div><div class=\"cm-body\"><div class=\"name\">豆瓣阅读同文馆</div><div class=\"works-num\">115 部作品在售</div></div></div></a></li><li><a href=\"/provider/63712948/\" class=\"provider-item\"><div class=\"col-media\"><div class=\"cm-left avatar\"><div class=\"avatar\"><img src=\"https://img3.doubanio.com/view/ark_agent_avatar/small/public/a343dab2c8be82e.jpg\"/></div></div><div class=\"cm-body\"><div class=\"name\">豆瓣</div><div class=\"works-num\">7 部作品在售</div></div></div></a></li><li><a href=\"/provider/63687406/\" class=\"provider-item\"><div class=\"col-media\"><div class=\"cm-left avatar\"><div class=\"avatar\"><img src=\"https://img3.doubanio.com/view/ark_agent_avatar/small/public/732c45d8786f8ae.jpg\"/></div></div><div class=\"cm-body\"><div class=\"name\">豆瓣阅读</div><div class=\"works-num\">10 部作品在售</div></div></div></a></li><li><a href=\"/provider/63693738/\" class=\"provider-item\"><div class=\"col-media\"><div class=\"cm-left avatar\"><div class=\"avatar\"><img src=\"https://img1.doubanio.com/view/ark_agent_avatar/small/public/d3fbffd658ac50b.jpg\"/></div></div><div class=\"cm-body\"><div class=\"name\">豆瓣阅读出版计划</div><div class=\"works-num\">20 部作品在售</div></div></div></a></li><li><a href=\"/provider/63738462/\" class=\"provider-item\"><div class=\"col-media\"><div class=\"cm-left avatar\"><div class=\"avatar\"><img src=\"https://img3.doubanio.com/view/ark_agent_avatar/small/public/df757d5f25c6a8f.jpg\"/></div></div><div class=\"cm-body\"><div class=\"name\">巴别塔文化</div><div class=\"works-num\">26 部作品在售</div></div></div></a></li></ul></div><div id=\"F\" class=\"provider-group\"><div class=\"index-name\">F</div><ul class=\"provider-items\"><li><a href=\"/provider/3262874/\" class=\"provider-item\"><div class=\"col-media\"><div class=\"cm-left avatar\"><div class=\"avatar\"><img src=\"https://img3.doubanio.com/view/ark_agent_avatar/small/public/e1779c546ecfaad.jpg\"/></div></div><div class=\"cm-body\"><div class=\"name\">凤凰壹力</div><div class=\"works-num\">419 部作品在售</div></div></div></a></li><li><a href=\"/provider/63687966/\" class=\"provider-item\"><div class=\"col-media\"><div class=\"cm-left avatar\"><div class=\"avatar\"><img src=\"https://img3.doubanio.com/view/ark_agent_avatar/small/public/d24318ba6a19812.jpg\"/></div></div><div class=\"cm-body\"><div class=\"name\">凤凰悦世泓文</div><div class=\"works-num\">254 部作品在售</div></div></div></a></li><li><a href=\"/provider/63688382/\" class=\"provider-item\"><div class=\"col-media\"><div class=\"cm-left avatar\"><div class=\"avatar\"><img src=\"https://img3.doubanio.com/view/ark_agent_avatar/small/public/56e0ddf83eed7bd.jpg\"/></div></div><div class=\"cm-body\"><div class=\"name\">凤凰联动</div><div class=\"works-num\">366 部作品在售</div></div></div></a></li><li><a href=\"/provider/63692957/\" class=\"provider-item\"><div class=\"col-media\"><div class=\"cm-left avatar\"><div class=\"avatar\"><img src=\"https://img3.doubanio.com/view/ark_agent_avatar/small/public/2f410d4b22d1ebe.jpg\"/></div></div><div class=\"cm-body\"><div class=\"name\">Fiberead</div><div class=\"works-num\">0 部作品在售</div></div></div></a></li><li><a href=\"/provider/63693689/\" class=\"provider-item\"><div class=\"col-media\"><div class=\"cm-left avatar\"><div class=\"avatar\"><img src=\"https://img3.doubanio.com/view/ark_agent_avatar/small/public/3c16437adf20dd5.jpg\"/></div></div><div class=\"cm-body\"><div class=\"name\">复旦大学出版社</div><div class=\"works-num\">0 部作品在售</div></div></div></a></li><li><a href=\"/provider/63700569/\" class=\"provider-item\"><div class=\"col-media\"><div class=\"cm-left avatar\"><div class=\"avatar\"><img src=\"https://img3.doubanio.com/view/ark_agent_avatar/small/public/4f664e6e00ad666.jpg\"/></div></div><div class=\"cm-body\"><div class=\"name\">凤凰雪漫</div><div class=\"works-num\">45 部作品在售</div></div></div></a></li></ul></div><div id=\"G\" class=\"provider-group\"><div class=\"index-name\">G</div><ul class=\"provider-items\"><li><a href=\"/provider/62627565/\" class=\"provider-item\"><div class=\"col-media\"><div class=\"cm-left avatar\"><div class=\"avatar\"><img src=\"https://img1.doubanio.com/view/ark_agent_avatar/small/public/c56b87914e36717.jpg\"/></div></div><div class=\"cm-body\"><div class=\"name\">果壳阅读</div><div class=\"works-num\">56 部作品在售</div></div></div></a></li><li><a href=\"/provider/63687157/\" class=\"provider-item\"><div class=\"col-media\"><div class=\"cm-left avatar\"><div class=\"avatar\"><img src=\"https://img1.doubanio.com/view/ark_agent_avatar/small/public/d2035b3ca5e5f57.jpg\"/></div></div><div class=\"cm-body\"><div class=\"name\">果麦文化</div><div class=\"works-num\">522 部作品在售</div></div></div></a></li><li><a href=\"/provider/63687156/\" class=\"provider-item\"><div class=\"col-media\"><div class=\"cm-left avatar\"><div class=\"avatar\"><img src=\"https://img3.doubanio.com/view/ark_agent_avatar/small/public/41c477067482112.jpg\"/></div></div><div class=\"cm-body\"><div class=\"name\">广西师范大学出版社</div><div class=\"works-num\">908 部作品在售</div></div></div></a></li></ul></div><div id=\"H\" class=\"provider-group\"><div class=\"index-name\">H</div><ul class=\"provider-items\"><li><a href=\"/provider/1908130/\" class=\"provider-item\"><div class=\"col-media\"><div class=\"cm-left avatar\"><div class=\"avatar\"><img src=\"https://img1.doubanio.com/view/ark_agent_avatar/small/public/7bf720628506b8c.jpg\"/></div></div><div class=\"cm-body\"><div class=\"name\">杭州蓝狮子文化创意股份有限公司</div><div class=\"works-num\">353 部作品在售</div></div></div></a></li><li><a href=\"/provider/63687218/\" class=\"provider-item\"><div class=\"col-media\"><div class=\"cm-left avatar\"><div class=\"avatar\"><img src=\"https://img1.doubanio.com/view/ark_agent_avatar/small/public/68fb3758af6bfd8.jpg\"/></div></div><div class=\"cm-body\"><div class=\"name\">后浪出版公司</div><div class=\"works-num\">199 部作品在售</div></div></div></a></li><li><a href=\"/provider/63687782/\" class=\"provider-item\"><div class=\"col-media\"><div class=\"cm-left avatar\"><div class=\"avatar\"><img src=\"https://img3.doubanio.com/view/ark_agent_avatar/small/public/4cbe21b1649f4b3.jpg\"/></div></div><div class=\"cm-body\"><div class=\"name\">华东师范大学出版社</div><div class=\"works-num\">458 部作品在售</div></div></div></a></li><li><a href=\"/provider/63687972/\" class=\"provider-item\"><div class=\"col-media\"><div class=\"cm-left avatar\"><div class=\"avatar\"><img src=\"https://img3.doubanio.com/view/ark_agent_avatar/small/public/32ffa211fe955f1.jpg\"/></div></div><div class=\"cm-body\"><div class=\"name\">华章数媒</div><div class=\"works-num\">2255 部作品在售</div></div></div></a></li><li><a href=\"/provider/63688325/\" class=\"provider-item\"><div class=\"col-media\"><div class=\"cm-left avatar\"><div class=\"avatar\"><img src=\"https://img3.doubanio.com/view/ark_agent_avatar/small/public/60ff673f08c6a64.jpg\"/></div></div><div class=\"cm-body\"><div class=\"name\">汉唐阳光</div><div class=\"works-num\">0 部作品在售</div></div></div></a></li><li><a href=\"/provider/63688921/\" class=\"provider-item\"><div class=\"col-media\"><div class=\"cm-left avatar\"><div class=\"avatar\"><img src=\"https://img3.doubanio.com/view/ark_agent_avatar/small/public/c3dc6f49d3e6591.jpg\"/></div></div><div class=\"cm-body\"><div class=\"name\">华文时代</div><div class=\"works-num\">150 部作品在售</div></div></div></a></li><li><a href=\"/provider/63693652/\" class=\"provider-item\"><div class=\"col-media\"><div class=\"cm-left avatar\"><div class=\"avatar\"><img src=\"https://img3.doubanio.com/view/ark_agent_avatar/small/public/21e8817f665856d.jpg\"/></div></div><div class=\"cm-body\"><div class=\"name\">湖北人民出版社</div><div class=\"works-num\">33 部作品在售</div></div></div></a></li><li><a href=\"/provider/63693690/\" class=\"provider-item\"><div class=\"col-media\"><div class=\"cm-left avatar\"><div class=\"avatar\"><img src=\"https://img3.doubanio.com/view/ark_agent_avatar/small/public/489b6168db432b1.jpg\"/></div></div><div class=\"cm-body\"><div class=\"name\">华章同人</div><div class=\"works-num\">98 部作品在售</div></div></div></a></li><li><a href=\"/provider/63694480/\" class=\"provider-item\"><div class=\"col-media\"><div class=\"cm-left avatar\"><div class=\"avatar\"><img src=\"https://img3.doubanio.com/view/ark_agent_avatar/small/public/ebb111c3d0ab3b6.jpg\"/></div></div><div class=\"cm-body\"><div class=\"name\">华夏盛轩</div><div class=\"works-num\">372 部作品在售</div></div></div></a></li><li><a href=\"/provider/63694646/\" class=\"provider-item\"><div class=\"col-media\"><div class=\"cm-left avatar\"><div class=\"avatar\"><img src=\"https://img1.doubanio.com/view/ark_agent_avatar/small/public/924a128f379497b.jpg\"/></div></div><div class=\"cm-body\"><div class=\"name\">海豚出版社</div><div class=\"works-num\">0 部作品在售</div></div></div></a></li><li><a href=\"/provider/63694719/\" class=\"provider-item\"><div class=\"col-media\"><div class=\"cm-left avatar\"><div class=\"avatar\"><img src=\"https://img3.doubanio.com/view/ark_agent_avatar/small/public/45ffc95985c7c85.jpg\"/></div></div><div class=\"cm-body\"><div class=\"name\">虹膜出版</div><div class=\"works-num\">124 部作品在售</div></div></div></a></li><li><a href=\"/provider/63697647/\" class=\"provider-item\"><div class=\"col-media\"><div class=\"cm-left avatar\"><div class=\"avatar\"><img src=\"https://img1.doubanio.com/view/ark_agent_avatar/small/public/7d97c90b60e2837.jpg\"/></div></div><div class=\"cm-body\"><div class=\"name\">化学工业出版社</div><div class=\"works-num\">37 部作品在售</div></div></div></a></li><li><a href=\"/provider/63699639/\" class=\"provider-item\"><div class=\"col-media\"><div class=\"cm-left avatar\"><div class=\"avatar\"><img src=\"https://img1.doubanio.com/view/ark_agent_avatar/small/public/c3330d8f2adc527.jpg\"/></div></div><div class=\"cm-body\"><div class=\"name\">华中科技大学出版社</div><div class=\"works-num\">35 部作品在售</div></div></div></a></li><li><a href=\"/provider/63700138/\" class=\"provider-item\"><div class=\"col-media\"><div class=\"cm-left avatar\"><div class=\"avatar\"><img src=\"https://img3.doubanio.com/view/ark_agent_avatar/small/public/14c7c5c8269abe3.jpg\"/></div></div><div class=\"cm-body\"><div class=\"name\">湖北科学技术出版社</div><div class=\"works-num\">245 部作品在售</div></div></div></a></li><li><a href=\"/provider/63700511/\" class=\"provider-item\"><div class=\"col-media\"><div class=\"cm-left avatar\"><div class=\"avatar\"><img src=\"https://img3.doubanio.com/view/ark_agent_avatar/small/public/49ef00cd5ab3f5e.jpg\"/></div></div><div class=\"cm-body\"><div class=\"name\">黑龙江北方文艺出版社</div><div class=\"works-num\">551 部作品在售</div></div></div></a></li><li><a href=\"/provider/63688860/\" class=\"provider-item\"><div class=\"col-media\"><div class=\"cm-left avatar\"><div class=\"avatar\"><img src=\"https://img1.doubanio.com/view/ark_agent_avatar/small/public/9a4ab42dffbb34b.jpg\"/></div></div><div class=\"cm-body\"><div class=\"name\">华文经典</div><div class=\"works-num\">215 部作品在售</div></div></div></a></li><li><a href=\"/provider/63719919/\" class=\"provider-item\"><div class=\"col-media\"><div class=\"cm-left avatar\"><div class=\"avatar\"><img src=\"https://img3.doubanio.com/view/ark_agent_avatar/small/public/a39309b438ff80e.jpg\"/></div></div><div class=\"cm-body\"><div class=\"name\">HarperCollins</div><div class=\"works-num\">6834 部作品在售</div></div></div></a></li></ul></div><div id=\"J\" class=\"provider-group\"><div class=\"index-name\">J</div><ul class=\"provider-items\"><li><a href=\"/provider/63687140/\" class=\"provider-item\"><div class=\"col-media\"><div class=\"cm-left avatar\"><div class=\"avatar\"><img src=\"https://img3.doubanio.com/view/ark_agent_avatar/small/public/d0126d50f9be846.jpg\"/></div></div><div class=\"cm-body\"><div class=\"name\">聚石文华</div><div class=\"works-num\">5 部作品在售</div></div></div></a></li><li><a href=\"/provider/63687909/\" class=\"provider-item\"><div class=\"col-media\"><div class=\"cm-left avatar\"><div class=\"avatar\"><img src=\"https://img3.doubanio.com/view/ark_agent_avatar/small/public/8a3d54bd41ae40d.jpg\"/></div></div><div class=\"cm-body\"><div class=\"name\">金城出版社</div><div class=\"works-num\">0 部作品在售</div></div></div></a></li><li><a href=\"/provider/63689006/\" class=\"provider-item\"><div class=\"col-media\"><div class=\"cm-left avatar\"><div class=\"avatar\"><img src=\"https://img3.doubanio.com/view/ark_agent_avatar/small/public/3dd86381787116f.jpg\"/></div></div><div class=\"cm-body\"><div class=\"name\">简书</div><div class=\"works-num\">226 部作品在售</div></div></div></a></li><li><a href=\"/provider/63694637/\" class=\"provider-item\"><div class=\"col-media\"><div class=\"cm-left avatar\"><div class=\"avatar\"><img src=\"https://img3.doubanio.com/view/ark_agent_avatar/small/public/0387346d85e5714.jpg\"/></div></div><div class=\"cm-body\"><div class=\"name\">今古传奇</div><div class=\"works-num\">89 部作品在售</div></div></div></a></li><li><a href=\"/provider/63697632/\" class=\"provider-item\"><div class=\"col-media\"><div class=\"cm-left avatar\"><div class=\"avatar\"><img src=\"https://img1.doubanio.com/view/ark_agent_avatar/small/public/372d1d9604cb597.jpg\"/></div></div><div class=\"cm-body\"><div class=\"name\">江苏人民出版社</div><div class=\"works-num\">524 部作品在售</div></div></div></a></li><li><a href=\"/provider/43497740/\" class=\"provider-item\"><div class=\"col-media\"><div class=\"cm-left avatar\"><div class=\"avatar\"><img src=\"https://img3.doubanio.com/view/ark_agent_avatar/small/public/8c5da8b8b941fa6.jpg\"/></div></div><div class=\"cm-body\"><div class=\"name\">九州幻想</div><div class=\"works-num\">1 部作品在售</div></div></div></a></li></ul></div><div id=\"K\" class=\"provider-group\"><div class=\"index-name\">K</div><ul class=\"provider-items\"><li><a href=\"/provider/63686930/\" class=\"provider-item\"><div class=\"col-media\"><div class=\"cm-left avatar\"><div class=\"avatar\"><img src=\"https://img3.doubanio.com/view/ark_agent_avatar/small/public/9190a9bcbfe2231.jpg\"/></div></div><div class=\"cm-body\"><div class=\"name\">科幻世界</div><div class=\"works-num\">144 部作品在售</div></div></div></a></li><li><a href=\"/provider/63720053/\" class=\"provider-item\"><div class=\"col-media\"><div class=\"cm-left avatar\"><div class=\"avatar\"><img src=\"https://img3.doubanio.com/view/ark_agent_avatar/small/public/b0a7cb59807b381.jpg\"/></div></div><div class=\"cm-body\"><div class=\"name\">酷威文化</div><div class=\"works-num\">53 部作品在售</div></div></div></a></li></ul></div><div id=\"L\" class=\"provider-group\"><div class=\"index-name\">L</div><ul class=\"provider-items\"><li><a href=\"/provider/2637315/\" class=\"provider-item\"><div class=\"col-media\"><div class=\"cm-left avatar\"><div class=\"avatar\"><img src=\"https://img3.doubanio.com/view/ark_agent_avatar/small/public/f7a6875f5788222.jpg\"/></div></div><div class=\"cm-body\"><div class=\"name\">理想国</div><div class=\"works-num\">623 部作品在售</div></div></div></a></li><li><a href=\"/provider/63695035/\" class=\"provider-item\"><div class=\"col-media\"><div class=\"cm-left avatar\"><div class=\"avatar\"><img src=\"https://img3.doubanio.com/view/ark_agent_avatar/small/public/c04887de639daa2.jpg\"/></div></div><div class=\"cm-body\"><div class=\"name\">漓江出版社</div><div class=\"works-num\">18 部作品在售</div></div></div></a></li><li><a href=\"/provider/63748750/\" class=\"provider-item\"><div class=\"col-media\"><div class=\"cm-left avatar\"><div class=\"avatar\"><img src=\"https://img1.doubanio.com/view/ark_agent_avatar/small/public/52a8d5bd38cd2ac.jpg\"/></div></div><div class=\"cm-body\"><div class=\"name\">联合读创</div><div class=\"works-num\">60 部作品在售</div></div></div></a></li></ul></div><div id=\"M\" class=\"provider-group\"><div class=\"index-name\">M</div><ul class=\"provider-items\"><li><a href=\"/provider/63687209/\" class=\"provider-item\"><div class=\"col-media\"><div class=\"cm-left avatar\"><div class=\"avatar\"><img src=\"https://img1.doubanio.com/view/ark_agent_avatar/small/public/c9998c8c50d0c97.jpg\"/></div></div><div class=\"cm-body\"><div class=\"name\">磨铁数盟</div><div class=\"works-num\">1288 部作品在售</div></div></div></a></li></ul></div><div id=\"N\" class=\"provider-group\"><div class=\"index-name\">N</div><ul class=\"provider-items\"><li><a href=\"/provider/63688925/\" class=\"provider-item\"><div class=\"col-media\"><div class=\"cm-left avatar\"><div class=\"avatar\"><img src=\"https://img3.doubanio.com/view/ark_agent_avatar/small/public/dc5861ae96a511f.jpg\"/></div></div><div class=\"cm-body\"><div class=\"name\">宁波出版社</div><div class=\"works-num\">0 部作品在售</div></div></div></a></li><li><a href=\"/provider/63692232/\" class=\"provider-item\"><div class=\"col-media\"><div class=\"cm-left avatar\"><div class=\"avatar\"><img src=\"https://img1.doubanio.com/view/ark_agent_avatar/small/public/d0f8e9f77ecc2d9.jpg\"/></div></div><div class=\"cm-body\"><div class=\"name\">南方人物周刊</div><div class=\"works-num\">0 部作品在售</div></div></div></a></li></ul></div><div id=\"O\" class=\"provider-group\"><div class=\"index-name\">O</div><ul class=\"provider-items\"><li><a href=\"/provider/63701963/\" class=\"provider-item\"><div class=\"col-media\"><div class=\"cm-left avatar\"><div class=\"avatar\"><img src=\"https://img1.doubanio.com/view/ark_agent_avatar/small/public/5001aab9b025868.jpg\"/></div></div><div class=\"cm-body\"><div class=\"name\">ONE·一个</div><div class=\"works-num\">19 部作品在售</div></div></div></a></li></ul></div><div id=\"P\" class=\"provider-group\"><div class=\"index-name\">P</div><ul class=\"provider-items\"><li><a href=\"/provider/63688444/\" class=\"provider-item\"><div class=\"col-media\"><div class=\"cm-left avatar\"><div class=\"avatar\"><img src=\"https://img3.doubanio.com/view/ark_agent_avatar/small/public/85e8af68701b47e.jpg\"/></div></div><div class=\"cm-body\"><div class=\"name\">浦睿文化</div><div class=\"works-num\">34 部作品在售</div></div></div></a></li><li><a href=\"/provider/63738054/\" class=\"provider-item\"><div class=\"col-media\"><div class=\"cm-left avatar\"><div class=\"avatar\"><img src=\"https://img1.doubanio.com/view/ark_agent_avatar/small/public/27b49f0fd5ab22b.jpg\"/></div></div><div class=\"cm-body\"><div class=\"name\">Parkstone</div><div class=\"works-num\">214 部作品在售</div></div></div></a></li><li><a href=\"/provider/63738055/\" class=\"provider-item\"><div class=\"col-media\"><div class=\"cm-left avatar\"><div class=\"avatar\"><img src=\"https://img1.doubanio.com/view/ark_agent_avatar/small/public/56bad2a0201ad58.jpg\"/></div></div><div class=\"cm-body\"><div class=\"name\">Packt Publishing</div><div class=\"works-num\">30 部作品在售</div></div></div></a></li></ul></div><div id=\"Q\" class=\"provider-group\"><div class=\"index-name\">Q</div><ul class=\"provider-items\"><li><a href=\"/provider/63687372/\" class=\"provider-item\"><div class=\"col-media\"><div class=\"cm-left avatar\"><div class=\"avatar\"><img src=\"https://img1.doubanio.com/view/ark_agent_avatar/small/public/23b787c4090fb99.jpg\"/></div></div><div class=\"cm-body\"><div class=\"name\">清华大学出版社</div><div class=\"works-num\">1192 部作品在售</div></div></div></a></li><li><a href=\"/provider/63699828/\" class=\"provider-item\"><div class=\"col-media\"><div class=\"cm-left avatar\"><div class=\"avatar\"><img src=\"https://img3.doubanio.com/view/ark_agent_avatar/small/public/de8580eea0a08de.jpg\"/></div></div><div class=\"cm-body\"><div class=\"name\">青岛出版社</div><div class=\"works-num\">16 部作品在售</div></div></div></a></li></ul></div><div id=\"R\" class=\"provider-group\"><div class=\"index-name\">R</div><ul class=\"provider-items\"><li><a href=\"/provider/63687272/\" class=\"provider-item\"><div class=\"col-media\"><div class=\"cm-left avatar\"><div class=\"avatar\"><img src=\"https://img1.doubanio.com/view/ark_agent_avatar/small/public/9855e3a19750179.jpg\"/></div></div><div class=\"cm-body\"><div class=\"name\">《人物》杂志</div><div class=\"works-num\">79 部作品在售</div></div></div></a></li><li><a href=\"/provider/63687721/\" class=\"provider-item\"><div class=\"col-media\"><div class=\"cm-left avatar\"><div class=\"avatar\"><img src=\"https://img3.doubanio.com/view/ark_agent_avatar/small/public/d6a15e7e9ebf681.jpg\"/></div></div><div class=\"cm-body\"><div class=\"name\">人民文学出版社</div><div class=\"works-num\">1077 部作品在售</div></div></div></a></li><li><a href=\"/provider/63688041/\" class=\"provider-item\"><div class=\"col-media\"><div class=\"cm-left avatar\"><div class=\"avatar\"><img src=\"https://img3.doubanio.com/view/ark_agent_avatar/small/public/0c7042c576fa846.jpg\"/></div></div><div class=\"cm-body\"><div class=\"name\">人民邮电出版社</div><div class=\"works-num\">3103 部作品在售</div></div></div></a></li><li><a href=\"/provider/63688333/\" class=\"provider-item\"><div class=\"col-media\"><div class=\"cm-left avatar\"><div class=\"avatar\"><img src=\"https://img3.doubanio.com/view/ark_agent_avatar/small/public/292721d4f51ec8e.jpg\"/></div></div><div class=\"cm-body\"><div class=\"name\">儒意欣欣</div><div class=\"works-num\">0 部作品在售</div></div></div></a></li><li><a href=\"/provider/63691532/\" class=\"provider-item\"><div class=\"col-media\"><div class=\"cm-left avatar\"><div class=\"avatar\"><img src=\"https://img3.doubanio.com/view/ark_agent_avatar/small/public/e642de01f10e053.jpg\"/></div></div><div class=\"cm-body\"><div class=\"name\">人民东方出版传媒</div><div class=\"works-num\">431 部作品在售</div></div></div></a></li><li><a href=\"/provider/63691537/\" class=\"provider-item\"><div class=\"col-media\"><div class=\"cm-left avatar\"><div class=\"avatar\"><img src=\"https://img3.doubanio.com/view/ark_agent_avatar/small/public/b099f574fef45b2.jpg\"/></div></div><div class=\"cm-body\"><div class=\"name\">人民文学杂志社</div><div class=\"works-num\">70 部作品在售</div></div></div></a></li></ul></div><div id=\"S\" class=\"provider-group\"><div class=\"index-name\">S</div><ul class=\"provider-items\"><li><a href=\"/provider/1063678/\" class=\"provider-item\"><div class=\"col-media\"><div class=\"cm-left avatar\"><div class=\"avatar\"><img src=\"https://img1.doubanio.com/view/ark_agent_avatar/small/public/a51a03ddf8ad78c.jpg\"/></div></div><div class=\"cm-body\"><div class=\"name\">上海九久读书人</div><div class=\"works-num\">458 部作品在售</div></div></div></a></li><li><a href=\"/provider/1874926/\" class=\"provider-item\"><div class=\"col-media\"><div class=\"cm-left avatar\"><div class=\"avatar\"><img src=\"https://img1.doubanio.com/view/ark_agent_avatar/small/public/f2f16c405bbc14b.jpg\"/></div></div><div class=\"cm-body\"><div class=\"name\">世纪文景</div><div class=\"works-num\">399 部作品在售</div></div></div></a></li><li><a href=\"/provider/63687141/\" class=\"provider-item\"><div class=\"col-media\"><div class=\"cm-left avatar\"><div class=\"avatar\"><img src=\"https://img1.doubanio.com/view/ark_agent_avatar/small/public/54d69ba20132eb7.jpg\"/></div></div><div class=\"cm-body\"><div class=\"name\">四川数字出版传媒有限公司</div><div class=\"works-num\">316 部作品在售</div></div></div></a></li><li><a href=\"/provider/63687184/\" class=\"provider-item\"><div class=\"col-media\"><div class=\"cm-left avatar\"><div class=\"avatar\"><img src=\"https://img3.doubanio.com/view/ark_agent_avatar/small/public/fcd1ec43ad62da4.jpg\"/></div></div><div class=\"cm-body\"><div class=\"name\">上海译文出版社</div><div class=\"works-num\">1294 部作品在售</div></div></div></a></li><li><a href=\"/provider/63687251/\" class=\"provider-item\"><div class=\"col-media\"><div class=\"cm-left avatar\"><div class=\"avatar\"><img src=\"https://img1.doubanio.com/view/ark_agent_avatar/small/public/c0d8438d95a865c.jpg\"/></div></div><div class=\"cm-body\"><div class=\"name\">时代华文</div><div class=\"works-num\">506 部作品在售</div></div></div></a></li><li><a href=\"/provider/63687334/\" class=\"provider-item\"><div class=\"col-media\"><div class=\"cm-left avatar\"><div class=\"avatar\"><img src=\"https://img3.doubanio.com/view/ark_agent_avatar/small/public/a158099187506bf.jpg\"/></div></div><div class=\"cm-body\"><div class=\"name\">上海雅众文化</div><div class=\"works-num\">55 部作品在售</div></div></div></a></li><li><a href=\"/provider/63687392/\" class=\"provider-item\"><div class=\"col-media\"><div class=\"cm-left avatar\"><div class=\"avatar\"><img src=\"https://img3.doubanio.com/view/ark_agent_avatar/small/public/7cff352ab802c1e.jpg\"/></div></div><div class=\"cm-body\"><div class=\"name\">世纪文睿</div><div class=\"works-num\">0 部作品在售</div></div></div></a></li><li><a href=\"/provider/63687512/\" class=\"provider-item\"><div class=\"col-media\"><div class=\"cm-left avatar\"><div class=\"avatar\"><img src=\"https://img3.doubanio.com/view/ark_agent_avatar/small/public/c583540f301670e.jpg\"/></div></div><div class=\"cm-body\"><div class=\"name\">时代华语</div><div class=\"works-num\">203 部作品在售</div></div></div></a></li><li><a href=\"/provider/63688865/\" class=\"provider-item\"><div class=\"col-media\"><div class=\"cm-left avatar\"><div class=\"avatar\"><img src=\"https://img1.doubanio.com/view/ark_agent_avatar/small/public/ffdcc412ec0a2a8.jpg\"/></div></div><div class=\"cm-body\"><div class=\"name\">商务印书馆</div><div class=\"works-num\">342 部作品在售</div></div></div></a></li><li><a href=\"/provider/63692079/\" class=\"provider-item\"><div class=\"col-media\"><div class=\"cm-left avatar\"><div class=\"avatar\"><img src=\"https://img3.doubanio.com/view/ark_agent_avatar/small/public/357ba517b07360d.jpg\"/></div></div><div class=\"cm-body\"><div class=\"name\">生活·读书·新知三联书店</div><div class=\"works-num\">227 部作品在售</div></div></div></a></li><li><a href=\"/provider/63693637/\" class=\"provider-item\"><div class=\"col-media\"><div class=\"cm-left avatar\"><div class=\"avatar\"><img src=\"https://img3.doubanio.com/view/ark_agent_avatar/small/public/1fb927387a3bf63.jpg\"/></div></div><div class=\"cm-body\"><div class=\"name\">上海社会科学院出版社</div><div class=\"works-num\">456 部作品在售</div></div></div></a></li><li><a href=\"/provider/63694334/\" class=\"provider-item\"><div class=\"col-media\"><div class=\"cm-left avatar\"><div class=\"avatar\"><img src=\"https://img1.doubanio.com/view/ark_agent_avatar/small/public/59e9d9cb750e78c.jpg\"/></div></div><div class=\"cm-body\"><div class=\"name\">社会科学文献出版社</div><div class=\"works-num\">816 部作品在售</div></div></div></a></li><li><a href=\"/provider/63694396/\" class=\"provider-item\"><div class=\"col-media\"><div class=\"cm-left avatar\"><div class=\"avatar\"><img src=\"https://img3.doubanio.com/view/ark_agent_avatar/small/public/c3dd83826e67eaf.jpg\"/></div></div><div class=\"cm-body\"><div class=\"name\">山西春秋电子音像出版社</div><div class=\"works-num\">147 部作品在售</div></div></div></a></li><li><a href=\"/provider/63694519/\" class=\"provider-item\"><div class=\"col-media\"><div class=\"cm-left avatar\"><div class=\"avatar\"><img src=\"https://img3.doubanio.com/view/ark_agent_avatar/small/public/95102f31cab28b2.jpg\"/></div></div><div class=\"cm-body\"><div class=\"name\">雁北堂</div><div class=\"works-num\">105 部作品在售</div></div></div></a></li><li><a href=\"/provider/63695084/\" class=\"provider-item\"><div class=\"col-media\"><div class=\"cm-left avatar\"><div class=\"avatar\"><img src=\"https://img3.doubanio.com/view/ark_agent_avatar/small/public/f2ef06f78a2de6f.jpg\"/></div></div><div class=\"cm-body\"><div class=\"name\">陕西人民出版北京分公司</div><div class=\"works-num\">0 部作品在售</div></div></div></a></li><li><a href=\"/provider/63699269/\" class=\"provider-item\"><div class=\"col-media\"><div class=\"cm-left avatar\"><div class=\"avatar\"><img src=\"https://img3.doubanio.com/view/ark_agent_avatar/small/public/4a5275cabece376.jpg\"/></div></div><div class=\"cm-body\"><div class=\"name\">《书城》杂志</div><div class=\"works-num\">44 部作品在售</div></div></div></a></li><li><a href=\"/provider/63699856/\" class=\"provider-item\"><div class=\"col-media\"><div class=\"cm-left avatar\"><div class=\"avatar\"><img src=\"https://img1.doubanio.com/view/ark_agent_avatar/small/public/c43f25457323498.jpg\"/></div></div><div class=\"cm-body\"><div class=\"name\">世界图书出版公司北京公司</div><div class=\"works-num\">93 部作品在售</div></div></div></a></li><li><a href=\"/provider/63707940/\" class=\"provider-item\"><div class=\"col-media\"><div class=\"cm-left avatar\"><div class=\"avatar\"><img src=\"https://img1.doubanio.com/view/ark_agent_avatar/small/public/f416740319f5dfa.jpg\"/></div></div><div class=\"cm-body\"><div class=\"name\">四川文艺出版社</div><div class=\"works-num\">30 部作品在售</div></div></div></a></li><li><a href=\"/provider/63708014/\" class=\"provider-item\"><div class=\"col-media\"><div class=\"cm-left avatar\"><div class=\"avatar\"><img src=\"https://img1.doubanio.com/view/ark_agent_avatar/small/public/45a84755e97c25c.jpg\"/></div></div><div class=\"cm-body\"><div class=\"name\">上海文艺出版社</div><div class=\"works-num\">66 部作品在售</div></div></div></a></li><li><a href=\"/provider/63709605/\" class=\"provider-item\"><div class=\"col-media\"><div class=\"cm-left avatar\"><div class=\"avatar\"><img src=\"https://img3.doubanio.com/view/ark_agent_avatar/small/public/4a23b0bcb6f48ef.jpg\"/></div></div><div class=\"cm-body\"><div class=\"name\">上海人民出版社</div><div class=\"works-num\">21 部作品在售</div></div></div></a></li><li><a href=\"/provider/63714822/\" class=\"provider-item\"><div class=\"col-media\"><div class=\"cm-left avatar\"><div class=\"avatar\"><img src=\"https://img1.doubanio.com/view/ark_agent_avatar/small/public/fa9ba0c772cfb59.jpg\"/></div></div><div class=\"cm-body\"><div class=\"name\">上海交通大学出版社</div><div class=\"works-num\">583 部作品在售</div></div></div></a></li><li><a href=\"/provider/63699692/\" class=\"provider-item\"><div class=\"col-media\"><div class=\"cm-left avatar\"><div class=\"avatar\"><img src=\"https://img1.doubanio.com/view/ark_agent_avatar/small/public/218ba0d918624a9.jpg\"/></div></div><div class=\"cm-body\"><div class=\"name\">斯坦威图书</div><div class=\"works-num\">481 部作品在售</div></div></div></a></li><li><a href=\"/provider/63723233/\" class=\"provider-item\"><div class=\"col-media\"><div class=\"cm-left avatar\"><div class=\"avatar\"><img src=\"https://img3.doubanio.com/view/ark_agent_avatar/small/public/5eadbac5e66c391.jpg\"/></div></div><div class=\"cm-body\"><div class=\"name\">上海人民美术出版社</div><div class=\"works-num\">119 部作品在售</div></div></div></a></li></ul></div><div id=\"T\" class=\"provider-group\"><div class=\"index-name\">T</div><ul class=\"provider-items\"><li><a href=\"/provider/63687026/\" class=\"provider-item\"><div class=\"col-media\"><div class=\"cm-left avatar\"><div class=\"avatar\"><img src=\"https://img3.doubanio.com/view/ark_agent_avatar/small/public/7e3234a2c25af4f.jpg\"/></div></div><div class=\"cm-body\"><div class=\"name\">图灵社区</div><div class=\"works-num\">197 部作品在售</div></div></div></a></li><li><a href=\"/provider/63716010/\" class=\"provider-item\"><div class=\"col-media\"><div class=\"cm-left avatar\"><div class=\"avatar\"><img src=\"https://img3.doubanio.com/view/ark_agent_avatar/small/public/6acec72c093f0a6.jpg\"/></div></div><div class=\"cm-body\"><div class=\"name\">Trajectory</div><div class=\"works-num\">5073 部作品在售</div></div></div></a></li></ul></div><div id=\"W\" class=\"provider-group\"><div class=\"index-name\">W</div><ul class=\"provider-items\"><li><a href=\"/provider/63688600/\" class=\"provider-item\"><div class=\"col-media\"><div class=\"cm-left avatar\"><div class=\"avatar\"><img src=\"https://img3.doubanio.com/view/ark_agent_avatar/small/public/c315f86f7aa4af2.jpg\"/></div></div><div class=\"cm-body\"><div class=\"name\">武汉大学出版社北京分社</div><div class=\"works-num\">17 部作品在售</div></div></div></a></li><li><a href=\"/provider/63689010/\" class=\"provider-item\"><div class=\"col-media\"><div class=\"cm-left avatar\"><div class=\"avatar\"><img src=\"https://img3.doubanio.com/view/ark_agent_avatar/small/public/3c35f92d97d8744.jpg\"/></div></div><div class=\"cm-body\"><div class=\"name\">万有图书</div><div class=\"works-num\">0 部作品在售</div></div></div></a></li></ul></div><div id=\"X\" class=\"provider-group\"><div class=\"index-name\">X</div><ul class=\"provider-items\"><li><a href=\"/provider/63686901/\" class=\"provider-item\"><div class=\"col-media\"><div class=\"cm-left avatar\"><div class=\"avatar\"><img src=\"https://img3.doubanio.com/view/ark_agent_avatar/small/public/62b701d4f3357b5.jpg\"/></div></div><div class=\"cm-body\"><div class=\"name\">新星出版社</div><div class=\"works-num\">497 部作品在售</div></div></div></a></li><li><a href=\"/provider/63687614/\" class=\"provider-item\"><div class=\"col-media\"><div class=\"cm-left avatar\"><div class=\"avatar\"><img src=\"https://img3.doubanio.com/view/ark_agent_avatar/small/public/ecd7495c6b6f3b3.jpg\"/></div></div><div class=\"cm-body\"><div class=\"name\">新华先锋文化传媒</div><div class=\"works-num\">0 部作品在售</div></div></div></a></li><li><a href=\"/provider/63687770/\" class=\"provider-item\"><div class=\"col-media\"><div class=\"cm-left avatar\"><div class=\"avatar\"><img src=\"https://img1.doubanio.com/view/ark_agent_avatar/small/public/26dc8787bcc7efa.jpg\"/></div></div><div class=\"cm-body\"><div class=\"name\">雪球</div><div class=\"works-num\">211 部作品在售</div></div></div></a></li><li><a href=\"/provider/63688397/\" class=\"provider-item\"><div class=\"col-media\"><div class=\"cm-left avatar\"><div class=\"avatar\"><img src=\"https://img3.doubanio.com/view/ark_agent_avatar/small/public/676e283e6e17e54.jpg\"/></div></div><div class=\"cm-body\"><div class=\"name\">悬疑世界</div><div class=\"works-num\">239 部作品在售</div></div></div></a></li><li><a href=\"/provider/63694440/\" class=\"provider-item\"><div class=\"col-media\"><div class=\"cm-left avatar\"><div class=\"avatar\"><img src=\"https://img3.doubanio.com/view/ark_agent_avatar/small/public/451f1cc1266492e.jpg\"/></div></div><div class=\"cm-body\"><div class=\"name\">现代出版社</div><div class=\"works-num\">0 部作品在售</div></div></div></a></li><li><a href=\"/provider/63700116/\" class=\"provider-item\"><div class=\"col-media\"><div class=\"cm-left avatar\"><div class=\"avatar\"><img src=\"https://img3.doubanio.com/view/ark_agent_avatar/small/public/b4589284b6e7066.jpg\"/></div></div><div class=\"cm-body\"><div class=\"name\">西南财经大学出版社</div><div class=\"works-num\">314 部作品在售</div></div></div></a></li><li><a href=\"/provider/63715900/\" class=\"provider-item\"><div class=\"col-media\"><div class=\"cm-left avatar\"><div class=\"avatar\"><img src=\"https://img1.doubanio.com/view/ark_agent_avatar/small/public/b32ba80c2a87cf8.jpg\"/></div></div><div class=\"cm-body\"><div class=\"name\">新华出版社</div><div class=\"works-num\">260 部作品在售</div></div></div></a></li><li><a href=\"/provider/63713723/\" class=\"provider-item\"><div class=\"col-media\"><div class=\"cm-left avatar\"><div class=\"avatar\"><img src=\"https://img3.doubanio.com/view/ark_agent_avatar/small/public/5184fe276685e93.jpg\"/></div></div><div class=\"cm-body\"><div class=\"name\">新华先锋出版科技</div><div class=\"works-num\">998 部作品在售</div></div></div></a></li></ul></div><div id=\"Y\" class=\"provider-group\"><div class=\"index-name\">Y</div><ul class=\"provider-items\"><li><a href=\"/provider/63687099/\" class=\"provider-item\"><div class=\"col-media\"><div class=\"cm-left avatar\"><div class=\"avatar\"><img src=\"https://img3.doubanio.com/view/ark_agent_avatar/small/public/a2f96aa09afc9ff.jpg\"/></div></div><div class=\"cm-body\"><div class=\"name\">译林出版社</div><div class=\"works-num\">858 部作品在售</div></div></div></a></li><li><a href=\"/provider/63688029/\" class=\"provider-item\"><div class=\"col-media\"><div class=\"cm-left avatar\"><div class=\"avatar\"><img src=\"https://img3.doubanio.com/view/ark_agent_avatar/small/public/c4236516f9ce250.jpg\"/></div></div><div class=\"cm-body\"><div class=\"name\">译言·东西文库</div><div class=\"works-num\">22 部作品在售</div></div></div></a></li><li><a href=\"/provider/63688030/\" class=\"provider-item\"><div class=\"col-media\"><div class=\"cm-left avatar\"><div class=\"avatar\"><img src=\"https://img1.doubanio.com/view/ark_agent_avatar/small/public/d8b5fecb863ca8a.jpg\"/></div></div><div class=\"cm-body\"><div class=\"name\">译言·古登堡计划</div><div class=\"works-num\">473 部作品在售</div></div></div></a></li><li><a href=\"/provider/63688346/\" class=\"provider-item\"><div class=\"col-media\"><div class=\"cm-left avatar\"><div class=\"avatar\"><img src=\"https://img3.doubanio.com/view/ark_agent_avatar/small/public/fbf55ee19433aa1.jpg\"/></div></div><div class=\"cm-body\"><div class=\"name\">悦读纪</div><div class=\"works-num\">92 部作品在售</div></div></div></a></li><li><a href=\"/provider/63688738/\" class=\"provider-item\"><div class=\"col-media\"><div class=\"cm-left avatar\"><div class=\"avatar\"><img src=\"https://img3.doubanio.com/view/ark_agent_avatar/small/public/664c070ecf5b651.jpg\"/></div></div><div class=\"cm-body\"><div class=\"name\">阳光博客</div><div class=\"works-num\">370 部作品在售</div></div></div></a></li><li><a href=\"/provider/63699700/\" class=\"provider-item\"><div class=\"col-media\"><div class=\"cm-left avatar\"><div class=\"avatar\"><img src=\"https://img3.doubanio.com/view/ark_agent_avatar/small/public/1715074cdb5b922.jpg\"/></div></div><div class=\"cm-body\"><div class=\"name\">悦读名品</div><div class=\"works-num\">214 部作品在售</div></div></div></a></li><li><a href=\"/provider/63701806/\" class=\"provider-item\"><div class=\"col-media\"><div class=\"cm-left avatar\"><div class=\"avatar\"><img src=\"https://img3.doubanio.com/view/ark_agent_avatar/small/public/66489d0ce9d8601.jpg\"/></div></div><div class=\"cm-body\"><div class=\"name\">燕山出版社</div><div class=\"works-num\">2 部作品在售</div></div></div></a></li><li><a href=\"/provider/63687035/\" class=\"provider-item\"><div class=\"col-media\"><div class=\"cm-left avatar\"><div class=\"avatar\"><img src=\"https://img3.doubanio.com/view/ark_agent_avatar/small/public/25fb2c40dbb7ad4.jpg\"/></div></div><div class=\"cm-body\"><div class=\"name\">阅文集团华文天下</div><div class=\"works-num\">702 部作品在售</div></div></div></a></li></ul></div><div id=\"Z\" class=\"provider-group\"><div class=\"index-name\">Z</div><ul class=\"provider-items\"><li><a href=\"/provider/6578125/\" class=\"provider-item\"><div class=\"col-media\"><div class=\"cm-left avatar\"><div class=\"avatar\"><img src=\"https://img1.doubanio.com/view/ark_agent_avatar/small/public/2c1854b6f543a7a.jpg\"/></div></div><div class=\"cm-body\"><div class=\"name\">中信出版社</div><div class=\"works-num\">2545 部作品在售</div></div></div></a></li><li><a href=\"/provider/29449961/\" class=\"provider-item\"><div class=\"col-media\"><div class=\"cm-left avatar\"><div class=\"avatar\"><img src=\"https://img3.doubanio.com/view/ark_agent_avatar/small/public/e4453168359f76e.jpg\"/></div></div><div class=\"cm-body\"><div class=\"name\">中国人民大学出版社</div><div class=\"works-num\">1500 部作品在售</div></div></div></a></li><li><a href=\"/provider/63687073/\" class=\"provider-item\"><div class=\"col-media\"><div class=\"cm-left avatar\"><div class=\"avatar\"><img src=\"https://img3.doubanio.com/view/ark_agent_avatar/small/public/3d70c229e0984f2.jpg\"/></div></div><div class=\"cm-body\"><div class=\"name\">中作华文</div><div class=\"works-num\">1100 部作品在售</div></div></div></a></li><li><a href=\"/provider/63687352/\" class=\"provider-item\"><div class=\"col-media\"><div class=\"cm-left avatar\"><div class=\"avatar\"><img src=\"https://img3.doubanio.com/view/ark_agent_avatar/small/public/cf15f8662318ce1.jpg\"/></div></div><div class=\"cm-body\"><div class=\"name\">中国轻工业出版社</div><div class=\"works-num\">112 部作品在售</div></div></div></a></li><li><a href=\"/provider/63687796/\" class=\"provider-item\"><div class=\"col-media\"><div class=\"cm-left avatar\"><div class=\"avatar\"><img src=\"https://img3.doubanio.com/view/ark_agent_avatar/small/public/d38f5f3cae4de33.jpg\"/></div></div><div class=\"cm-body\"><div class=\"name\">紫图图书</div><div class=\"works-num\">262 部作品在售</div></div></div></a></li><li><a href=\"/provider/63688047/\" class=\"provider-item\"><div class=\"col-media\"><div class=\"cm-left avatar\"><div class=\"avatar\"><img src=\"https://img3.doubanio.com/view/ark_agent_avatar/small/public/dd56a7e7a6a03ad.jpg\"/></div></div><div class=\"cm-body\"><div class=\"name\">浙版数媒</div><div class=\"works-num\">1700 部作品在售</div></div></div></a></li><li><a href=\"/provider/63688105/\" class=\"provider-item\"><div class=\"col-media\"><div class=\"cm-left avatar\"><div class=\"avatar\"><img src=\"https://img3.doubanio.com/view/ark_agent_avatar/small/public/6414624e49e9d13.jpg\"/></div></div><div class=\"cm-body\"><div class=\"name\">中央编译出版社</div><div class=\"works-num\">2592 部作品在售</div></div></div></a></li><li><a href=\"/provider/63689290/\" class=\"provider-item\"><div class=\"col-media\"><div class=\"cm-left avatar\"><div class=\"avatar\"><img src=\"https://img1.doubanio.com/view/ark_agent_avatar/small/public/416f12b143f517c.jpg\"/></div></div><div class=\"cm-body\"><div class=\"name\">知乎</div><div class=\"works-num\">431 部作品在售</div></div></div></a></li><li><a href=\"/provider/63690682/\" class=\"provider-item\"><div class=\"col-media\"><div class=\"cm-left avatar\"><div class=\"avatar\"><img src=\"https://img3.doubanio.com/view/ark_agent_avatar/small/public/39cb30481453de1.jpg\"/></div></div><div class=\"cm-body\"><div class=\"name\">中国国家地理图书部</div><div class=\"works-num\">0 部作品在售</div></div></div></a></li><li><a href=\"/provider/63692314/\" class=\"provider-item\"><div class=\"col-media\"><div class=\"cm-left avatar\"><div class=\"avatar\"><img src=\"https://img1.doubanio.com/view/ark_agent_avatar/small/public/670c4c74493a3c8.jpg\"/></div></div><div class=\"cm-body\"><div class=\"name\">浙江摄影出版社</div><div class=\"works-num\">0 部作品在售</div></div></div></a></li><li><a href=\"/provider/63700249/\" class=\"provider-item\"><div class=\"col-media\"><div class=\"cm-left avatar\"><div class=\"avatar\"><img src=\"https://img3.doubanio.com/view/ark_agent_avatar/small/public/fe2c4da19939cce.jpg\"/></div></div><div class=\"cm-body\"><div class=\"name\">中国经济出版社</div><div class=\"works-num\">479 部作品在售</div></div></div></a></li><li><a href=\"/provider/63700344/\" class=\"provider-item\"><div class=\"col-media\"><div class=\"cm-left avatar\"><div class=\"avatar\"><img src=\"https://img1.doubanio.com/view/ark_agent_avatar/small/public/273bc6683488e77.jpg\"/></div></div><div class=\"cm-body\"><div class=\"name\">中国青年出版社</div><div class=\"works-num\">74 部作品在售</div></div></div></a></li><li><a href=\"/provider/63700347/\" class=\"provider-item\"><div class=\"col-media\"><div class=\"cm-left avatar\"><div class=\"avatar\"><img src=\"https://img1.doubanio.com/view/ark_agent_avatar/small/public/445e32256c25079.jpg\"/></div></div><div class=\"cm-body\"><div class=\"name\">中国民主法制出版社</div><div class=\"works-num\">307 部作品在售</div></div></div></a></li><li><a href=\"/provider/63705375/\" class=\"provider-item\"><div class=\"col-media\"><div class=\"cm-left avatar\"><div class=\"avatar\"><img src=\"https://img1.doubanio.com/view/ark_agent_avatar/small/public/76734164c46bd59.jpg\"/></div></div><div class=\"cm-body\"><div class=\"name\">中国传媒大学出版社</div><div class=\"works-num\">891 部作品在售</div></div></div></a></li><li><a href=\"/provider/63705674/\" class=\"provider-item\"><div class=\"col-media\"><div class=\"cm-left avatar\"><div class=\"avatar\"><img src=\"https://img3.doubanio.com/view/ark_agent_avatar/small/public/df4a9f8713d8f84.jpg\"/></div></div><div class=\"cm-body\"><div class=\"name\">中国言实出版社</div><div class=\"works-num\">9 部作品在售</div></div></div></a></li><li><a href=\"/provider/63705816/\" class=\"provider-item\"><div class=\"col-media\"><div class=\"cm-left avatar\"><div class=\"avatar\"><img src=\"https://img3.doubanio.com/view/ark_agent_avatar/small/public/bc46aec63454a72.jpg\"/></div></div><div class=\"cm-body\"><div class=\"name\">浙江大学出版社</div><div class=\"works-num\">311 部作品在售</div></div></div></a></li><li><a href=\"/provider/63716864/\" class=\"provider-item\"><div class=\"col-media\"><div class=\"cm-left avatar\"><div class=\"avatar\"><img src=\"https://img3.doubanio.com/view/ark_agent_avatar/small/public/51c9a7b3abd0b3d.jpg\"/></div></div><div class=\"cm-body\"><div class=\"name\">湛庐文化</div><div class=\"works-num\">384 部作品在售</div></div></div></a></li><li><a href=\"/provider/63716667/\" class=\"provider-item\"><div class=\"col-media\"><div class=\"cm-left avatar\"><div class=\"avatar\"><img src=\"https://img1.doubanio.com/view/ark_agent_avatar/small/public/4d8cc541263281b.jpg\"/></div></div><div class=\"cm-body\"><div class=\"name\">浙江文艺出版社</div><div class=\"works-num\">300 部作品在售</div></div></div></a></li><li><a href=\"/provider/63724217/\" class=\"provider-item\"><div class=\"col-media\"><div class=\"cm-left avatar\"><div class=\"avatar\"><img src=\"https://img3.doubanio.com/view/ark_agent_avatar/small/public/12d78b12c496296.jpg\"/></div></div><div class=\"cm-body\"><div class=\"name\">中华书局</div><div class=\"works-num\">268 部作品在售</div></div></div></a></li></ul></div></div></div></section><script>\\ndefine.config({\\n  \\'widget/sticky\\': \\'Ark.Sticky\\'\\n});\\nDo.add(\\'widget/sticky\\', {\\n  path: \"https://img3.doubanio.com/f/ark/ac09bd416af034a83b656659d6e668bec775d745/js/widget/sticky.js\"\\n, requires: [\\'mod/lang\\']\\n, type: \\'js\\'\\n});\\nDo.add(\\'store/provider/all\\', {\\n  path: \"https://img3.doubanio.com/f/ark/4da368203ab86d242e4815b92e76d2d02a719813/js/store/provider/all.js\"\\n, requires: [\\'widget/sticky\\']\\n, type: \\'js\\'\\n});\\nDo(\\'store/provider/all\\');</script><footer><div class=\"inner\"><div class=\"copyright\"> &copy; 2014 - 2018 read.douban.com, all rights reserved&nbsp;&nbsp;<a href=\"https://img3.doubanio.com/f/ark/6a5d1af222427b7b6b68637df8644a20c60ae8fe/pics/license/ark-reading-business-license-mark.png\" target=\"_blank\">北京方舟阅读科技有限公司</a><br><a href=\"https://www.douban.com/about?topic=licence\" target=\"_blank\">网络视听许可证0110418号</a>&nbsp;&nbsp;<a href=\"https://img3.doubanio.com/f/ark/d5c4fef08b1bd6fdc8f480540b9784dc0c35d7fc/pics/license/ark-reading-publications-business-license-mark.png\" target=\"_blank\">新出发京批字第直160030号</a>&nbsp;&nbsp;文网文[2009]267号&nbsp;&nbsp;(总)网出证(京)字129号 <img width=\"15\" height=\"17\" src=\"https://img3.doubanio.com/f/ark/b231fcec16444a6fad1339b7a08ff4c3c7d1feab/pics/biaoshi.png\" /></div><div class=\"ft-nav\"><a href=\"/contact\">联系我们</a>·<a href=\"/copyright\">版权声明</a>·<a href=\"/guideline\">内容导则</a>·<a href=\"/submit/faq\">作者帮助中心</a>·<a href=\"/faq\">读者帮助中心</a>·<a href=\"/careers\">来这里工作</a></div><script>\\n  Do(\\'mod/cookie\\', function() {\\n    $(\\'.go-mobile\\').on(\\'click\\', function(e) {\\n      e.preventDefault();\\n      Ark.cookie(\\'page_style\\', \\'mobile\\', {\\n        path: \\'/\\',\\n        \\'max-age\\': 60 * 60 * 24\\n      });\\n      location.reload();\\n    });\\n  });\\n</script></div></footer><script src=\"https://img3.doubanio.com/f/ark/913550dbbb37e996a58047048c529b289fa031a9/js/lib/do/init.js\" data-cfg-corelib=\"https://img3.doubanio.com/f/ark/f1b13eaf4d5e88f8f2e692e0c3014d4ae330a952/js/lib/jquery/jquery.js\"></script></div></div><script>\\nvar _paq = _paq || [];\\n_paq.push([\\'trackPageView\\']);\\n_paq.push([\\'enableLinkTracking\\']);\\n(function() {\\n  var p=((\\'https:\\' == document.location.protocol) ? \\'https\\' : \\'http\\'), u=p+\\'://fundin.douban.com/\\';\\n  _paq.push([\\'setTrackerUrl\\', u+\\'piwik\\']);\\n  _paq.push([\\'setSiteId\\', \\'100001\\']);\\n  var d=document, g=d.createElement(\\'script\\'), s=d.getElementsByTagName(\\'script\\')[0];\\n  g.type=\\'text/javascript\\';\\n  g.defer=true;\\n  g.async=true;\\n  g.src=p+\\'://img3.doubanio.com/dae/fundin/piwik.js\\';\\n  s.parentNode.insertBefore(g,s);\\n})();\\n\\n\\n  ga(\\'require\\', \\'ecommerce\\', \\'ecommerce.js\\');\\n  ga(\\'require\\', \\'campaignLoader\\', { debug: false });\\n  ga(\\'campaignLoader:loadCampaignFields\\');\\n\\n  ga(\\'send\\', \\'pageview\\', {\\n    hitCallback: window.Ark && Ark.onGAPageViewDone\\n  });\\n\\n\\n\\n\\n\\n\\n\\n\\n\\nga(\\'set\\', \\'dimension2\\', \\'-1\\');\\n\\n\\nga(\\'set\\', \\'dimension5\\', \\'none\\');\\n\\n\\nga(\\'set\\', \\'dimension3\\', \\'desktop\\');</script><script async=\"async\" src=\"https://img3.doubanio.com/f/ark/471e046670e720dd18df29b8d0ac5a73f095257d/js/widget/campaign-loader.js\"></script><!-- brand47-docker --></body></html>'"
      ]
     },
     "execution_count": 17,
     "metadata": {},
     "output_type": "execute_result"
    }
   ],
   "source": [
    "\n",
    "data=urllib.request.urlopen(\"https://read.douban.com/provider/all\").read()\n",
    "data = data.decode('utf-8')\n",
    "data\n"
   ]
  },
  {
   "cell_type": "code",
   "execution_count": 19,
   "metadata": {},
   "outputs": [
    {
     "data": {
      "text/plain": [
       "['博集天卷',\n",
       " '北京邮电大学出版社',\n",
       " '北京师范大学出版社',\n",
       " '百花洲文艺出版社',\n",
       " '百花文艺出版社',\n",
       " '长江数字',\n",
       " '重庆大学出版社',\n",
       " '东方文萃',\n",
       " '读客图书',\n",
       " '电子工业出版社',\n",
       " '当代中国出版社',\n",
       " '第一财经周刊',\n",
       " '豆瓣阅读同文馆',\n",
       " '豆瓣',\n",
       " '豆瓣阅读',\n",
       " '豆瓣阅读出版计划',\n",
       " '巴别塔文化',\n",
       " '凤凰壹力',\n",
       " '凤凰悦世泓文',\n",
       " '凤凰联动',\n",
       " 'Fiberead',\n",
       " '复旦大学出版社',\n",
       " '凤凰雪漫',\n",
       " '果壳阅读',\n",
       " '果麦文化',\n",
       " '广西师范大学出版社',\n",
       " '杭州蓝狮子文化创意股份有限公司',\n",
       " '后浪出版公司',\n",
       " '华东师范大学出版社',\n",
       " '华章数媒',\n",
       " '汉唐阳光',\n",
       " '华文时代',\n",
       " '湖北人民出版社',\n",
       " '华章同人',\n",
       " '华夏盛轩',\n",
       " '海豚出版社',\n",
       " '虹膜出版',\n",
       " '化学工业出版社',\n",
       " '华中科技大学出版社',\n",
       " '湖北科学技术出版社',\n",
       " '黑龙江北方文艺出版社',\n",
       " '华文经典',\n",
       " 'HarperCollins',\n",
       " '聚石文华',\n",
       " '金城出版社',\n",
       " '简书',\n",
       " '今古传奇',\n",
       " '江苏人民出版社',\n",
       " '九州幻想',\n",
       " '科幻世界',\n",
       " '酷威文化',\n",
       " '理想国',\n",
       " '漓江出版社',\n",
       " '联合读创',\n",
       " '磨铁数盟',\n",
       " '宁波出版社',\n",
       " '南方人物周刊',\n",
       " 'ONE·一个',\n",
       " '浦睿文化',\n",
       " 'Parkstone',\n",
       " 'Packt Publishing',\n",
       " '清华大学出版社',\n",
       " '青岛出版社',\n",
       " '《人物》杂志',\n",
       " '人民文学出版社',\n",
       " '人民邮电出版社',\n",
       " '儒意欣欣',\n",
       " '人民东方出版传媒',\n",
       " '人民文学杂志社',\n",
       " '上海九久读书人',\n",
       " '世纪文景',\n",
       " '四川数字出版传媒有限公司',\n",
       " '上海译文出版社',\n",
       " '时代华文',\n",
       " '上海雅众文化',\n",
       " '世纪文睿',\n",
       " '时代华语',\n",
       " '商务印书馆',\n",
       " '生活·读书·新知三联书店',\n",
       " '上海社会科学院出版社',\n",
       " '社会科学文献出版社',\n",
       " '山西春秋电子音像出版社',\n",
       " '雁北堂',\n",
       " '陕西人民出版北京分公司',\n",
       " '《书城》杂志',\n",
       " '世界图书出版公司北京公司',\n",
       " '四川文艺出版社',\n",
       " '上海文艺出版社',\n",
       " '上海人民出版社',\n",
       " '上海交通大学出版社',\n",
       " '斯坦威图书',\n",
       " '上海人民美术出版社',\n",
       " '图灵社区',\n",
       " 'Trajectory',\n",
       " '武汉大学出版社北京分社',\n",
       " '万有图书',\n",
       " '新星出版社',\n",
       " '新华先锋文化传媒',\n",
       " '雪球',\n",
       " '悬疑世界',\n",
       " '现代出版社',\n",
       " '西南财经大学出版社',\n",
       " '新华出版社',\n",
       " '新华先锋出版科技',\n",
       " '译林出版社',\n",
       " '译言·东西文库',\n",
       " '译言·古登堡计划',\n",
       " '悦读纪',\n",
       " '阳光博客',\n",
       " '悦读名品',\n",
       " '燕山出版社',\n",
       " '阅文集团华文天下',\n",
       " '中信出版社',\n",
       " '中国人民大学出版社',\n",
       " '中作华文',\n",
       " '中国轻工业出版社',\n",
       " '紫图图书',\n",
       " '浙版数媒',\n",
       " '中央编译出版社',\n",
       " '知乎',\n",
       " '中国国家地理图书部',\n",
       " '浙江摄影出版社',\n",
       " '中国经济出版社',\n",
       " '中国青年出版社',\n",
       " '中国民主法制出版社',\n",
       " '中国传媒大学出版社',\n",
       " '中国言实出版社',\n",
       " '浙江大学出版社',\n",
       " '湛庐文化',\n",
       " '浙江文艺出版社',\n",
       " '中华书局']"
      ]
     },
     "execution_count": 19,
     "metadata": {},
     "output_type": "execute_result"
    }
   ],
   "source": [
    "pat='<div class=\"name\">(.*?)</div>'\n",
    "date=re.compile(pat).findall(data)\n",
    "date"
   ]
  },
  {
   "cell_type": "code",
   "execution_count": 20,
   "metadata": {},
   "outputs": [
    {
     "ename": "NameError",
     "evalue": "name 'fh' is not defined",
     "output_type": "error",
     "traceback": [
      "\u001b[1;31m---------------------------------------------------------------------------\u001b[0m",
      "\u001b[1;31mNameError\u001b[0m                                 Traceback (most recent call last)",
      "\u001b[1;32m<ipython-input-20-ade31d8b8e9a>\u001b[0m in \u001b[0;36m<module>\u001b[1;34m()\u001b[0m\n\u001b[0;32m      1\u001b[0m \u001b[1;31m#写入\u001b[0m\u001b[1;33m\u001b[0m\u001b[1;33m\u001b[0m\u001b[0m\n\u001b[0;32m      2\u001b[0m \u001b[1;32mfor\u001b[0m \u001b[0mi\u001b[0m \u001b[1;32min\u001b[0m \u001b[0mrange\u001b[0m\u001b[1;33m(\u001b[0m\u001b[1;36m0\u001b[0m\u001b[1;33m,\u001b[0m\u001b[0mlen\u001b[0m\u001b[1;33m(\u001b[0m\u001b[0mdate\u001b[0m\u001b[1;33m)\u001b[0m\u001b[1;33m)\u001b[0m\u001b[1;33m:\u001b[0m\u001b[1;33m\u001b[0m\u001b[0m\n\u001b[1;32m----> 3\u001b[1;33m     \u001b[0mfh\u001b[0m\u001b[1;33m.\u001b[0m\u001b[0mwrite\u001b[0m\u001b[1;33m(\u001b[0m\u001b[0mdate\u001b[0m\u001b[1;33m[\u001b[0m\u001b[0mi\u001b[0m\u001b[1;33m]\u001b[0m\u001b[1;33m+\u001b[0m\u001b[1;34m\"\\n\"\u001b[0m\u001b[1;33m)\u001b[0m\u001b[1;33m\u001b[0m\u001b[0m\n\u001b[0m\u001b[0;32m      4\u001b[0m \u001b[0mfh\u001b[0m\u001b[1;33m.\u001b[0m\u001b[0mclose\u001b[0m\u001b[1;33m(\u001b[0m\u001b[1;33m)\u001b[0m\u001b[1;33m\u001b[0m\u001b[0m\n",
      "\u001b[1;31mNameError\u001b[0m: name 'fh' is not defined"
     ]
    }
   ],
   "source": [
    "#写入\n",
    "fh=open(\"1.txt\",\"w\")\n",
    "for i in range(0,len(date)):\n",
    "    fh.write(date[i]+\"\\n\")\n",
    "fh.close()"
   ]
  },
  {
   "cell_type": "code",
   "execution_count": 21,
   "metadata": {},
   "outputs": [
    {
     "data": {
      "text/plain": [
       "('1.html', <http.client.HTTPMessage at 0x27f8218f208>)"
      ]
     },
     "execution_count": 21,
     "metadata": {},
     "output_type": "execute_result"
    }
   ],
   "source": [
    "\n",
    "\n",
    "#通过urlretrieve可以将一个网页直接爬取成为本地网页\n",
    "urllib.request.urlretrieve(\"http://www.hellobi.com\",filename=\"1.html\")\n"
   ]
  },
  {
   "cell_type": "code",
   "execution_count": 23,
   "metadata": {},
   "outputs": [],
   "source": [
    "#清楚缓存\n",
    "urllib.request.urlcleanup()"
   ]
  },
  {
   "cell_type": "code",
   "execution_count": 25,
   "metadata": {},
   "outputs": [
    {
     "data": {
      "text/plain": [
       "<http.client.HTTPMessage at 0x27f82194080>"
      ]
     },
     "execution_count": 25,
     "metadata": {},
     "output_type": "execute_result"
    }
   ],
   "source": [
    "#爬取的状态\n",
    "file=urllib.request.urlopen(\"http://www.baidu.com\")\n",
    "file.info()"
   ]
  },
  {
   "cell_type": "code",
   "execution_count": 27,
   "metadata": {},
   "outputs": [
    {
     "data": {
      "text/plain": [
       "200"
      ]
     },
     "execution_count": 27,
     "metadata": {},
     "output_type": "execute_result"
    }
   ],
   "source": [
    "#返回状态码 200正常爬去 300失败\n",
    "file.getcode()"
   ]
  },
  {
   "cell_type": "code",
   "execution_count": 28,
   "metadata": {},
   "outputs": [
    {
     "data": {
      "text/plain": [
       "'http://www.baidu.com'"
      ]
     },
     "execution_count": 28,
     "metadata": {},
     "output_type": "execute_result"
    }
   ],
   "source": [
    "#看到爬取的是那个网页\n",
    "file.geturl()"
   ]
  },
  {
   "cell_type": "code",
   "execution_count": 29,
   "metadata": {},
   "outputs": [],
   "source": [
    "import urllib.request"
   ]
  },
  {
   "cell_type": "code",
   "execution_count": 35,
   "metadata": {},
   "outputs": [],
   "source": [
    "#timeout爬虫时间速度，\n",
    "file=urllib.request.urlopen(\"http://www.baidu.com\",timeout=1)"
   ]
  },
  {
   "cell_type": "code",
   "execution_count": null,
   "metadata": {},
   "outputs": [],
   "source": []
  },
  {
   "cell_type": "code",
   "execution_count": 51,
   "metadata": {},
   "outputs": [
    {
     "name": "stdout",
     "output_type": "stream",
     "text": [
      "144470\n",
      "144402\n",
      "144402\n",
      "144470\n",
      "144470\n",
      "144470\n",
      "144470\n",
      "144470\n",
      "144470\n",
      "144470\n",
      "144470\n",
      "144470\n",
      "144470\n",
      "144470\n",
      "144470\n",
      "144470\n",
      "144470\n",
      "144470\n",
      "144470\n",
      "140178\n",
      "144470\n",
      "144470\n",
      "144470\n",
      "144470\n",
      "144470\n",
      "144470\n",
      "144470\n",
      "144470\n",
      "144470\n",
      "144470\n",
      "144402\n",
      "144470\n",
      "144470\n",
      "144470\n",
      "144470\n",
      "144470\n",
      "144470\n",
      "144470\n",
      "144470\n",
      "144470\n",
      "144470\n",
      "144470\n",
      "144470\n",
      "144470\n",
      "144470\n",
      "144470\n",
      "144470\n",
      "144470\n",
      "144470\n",
      "144470\n",
      "144470\n",
      "144470\n",
      "144470\n",
      "144470\n",
      "144470\n",
      "144470\n",
      "144470\n",
      "144470\n",
      "144470\n",
      "144470\n",
      "144470\n",
      "144470\n",
      "144470\n",
      "144470\n",
      "144470\n",
      "144470\n",
      "144470\n",
      "144470\n",
      "144470\n",
      "144470\n",
      "144470\n",
      "144470\n",
      "144470\n",
      "144470\n",
      "144470\n",
      "144470\n",
      "144470\n",
      "144470\n",
      "144470\n",
      "144470\n",
      "144470\n",
      "144470\n",
      "144470\n",
      "144470\n",
      "144470\n",
      "144470\n",
      "144470\n",
      "144470\n",
      "144470\n",
      "144470\n",
      "144470\n",
      "144470\n",
      "144470\n",
      "144470\n",
      "144470\n",
      "144470\n",
      "144470\n",
      "140178\n",
      "144470\n",
      "144470\n"
     ]
    }
   ],
   "source": [
    "for i in range(0,100):\n",
    "    try:\n",
    "        file=urllib.request.urlopen(\"http://www.taobao.com\",timeout=1)\n",
    "        data=file.read()\n",
    "        print(len(data))\n",
    "    except Exception as e:\n",
    "        print(\"出现异常：\"+str(e))"
   ]
  },
  {
   "cell_type": "code",
   "execution_count": 52,
   "metadata": {},
   "outputs": [
    {
     "ename": "SyntaxError",
     "evalue": "invalid syntax (<ipython-input-52-d5e2674cde1a>, line 1)",
     "output_type": "error",
     "traceback": [
      "\u001b[1;36m  File \u001b[1;32m\"<ipython-input-52-d5e2674cde1a>\"\u001b[1;36m, line \u001b[1;32m1\u001b[0m\n\u001b[1;33m    www.xxxx.com/sss?ss=sss\u001b[0m\n\u001b[1;37m                    ^\u001b[0m\n\u001b[1;31mSyntaxError\u001b[0m\u001b[1;31m:\u001b[0m invalid syntax\n"
     ]
    }
   ],
   "source": [
    "www.xxxx.com/sss?ss=sss\n",
    "?是get请求"
   ]
  },
  {
   "cell_type": "code",
   "execution_count": 106,
   "metadata": {},
   "outputs": [
    {
     "name": "stdout",
     "output_type": "stream",
     "text": [
      "http://www.baidu.com/s?wd=Python\n",
      "<urllib.request.Request object at 0x0000027F8221F710>\n"
     ]
    },
    {
     "data": {
      "text/plain": [
       "<function BufferedWriter.close>"
      ]
     },
     "execution_count": 106,
     "metadata": {},
     "output_type": "execute_result"
    }
   ],
   "source": [
    "import urllib.request\n",
    "#负值关键字\n",
    "keywd=\"Python\"\n",
    "#需要加上Ie\n",
    "url=\"http://www.baidu.com/s?wd=\"+keywd\n",
    "print(url)\n",
    "#取变为连接变量\n",
    "req=urllib.request.Request(url)\n",
    "print(req)\n",
    "data=urllib.request.urlopen(req).read()\n",
    "fh=open(\"3.html\",\"wb\")\n",
    "fh.write(data)\n",
    "fh.close"
   ]
  },
  {
   "cell_type": "code",
   "execution_count": 96,
   "metadata": {},
   "outputs": [
    {
     "name": "stdout",
     "output_type": "stream",
     "text": [
      "http://www.baidu.com/s?wd=python&ie=utf-8&tn=baiduhome_pg\n",
      "<urllib.request.Request object at 0x0000027F820B3AC8>\n"
     ]
    }
   ],
   "source": [
    "#如果是中文必须要经过编码调用quote\n",
    "keywd=“微微”\n",
    "keywd=urllib.request.quote(keywd)"
   ]
  },
  {
   "cell_type": "code",
   "execution_count": 18,
   "metadata": {},
   "outputs": [
    {
     "ename": "HTTPError",
     "evalue": "HTTP Error 500: Internal Server Error",
     "output_type": "error",
     "traceback": [
      "\u001b[1;31m---------------------------------------------------------------------------\u001b[0m",
      "\u001b[1;31mHTTPError\u001b[0m                                 Traceback (most recent call last)",
      "\u001b[1;32m<ipython-input-18-30dad6537570>\u001b[0m in \u001b[0;36m<module>\u001b[1;34m()\u001b[0m\n\u001b[0;32m      7\u001b[0m }).encode(\"UTF-8\")\n\u001b[0;32m      8\u001b[0m \u001b[0mreq\u001b[0m\u001b[1;33m=\u001b[0m\u001b[0murllib\u001b[0m\u001b[1;33m.\u001b[0m\u001b[0mrequest\u001b[0m\u001b[1;33m.\u001b[0m\u001b[0mRequest\u001b[0m\u001b[1;33m(\u001b[0m\u001b[0murl\u001b[0m\u001b[1;33m,\u001b[0m\u001b[0mmydata\u001b[0m\u001b[1;33m)\u001b[0m\u001b[1;33m\u001b[0m\u001b[0m\n\u001b[1;32m----> 9\u001b[1;33m \u001b[0mdata\u001b[0m\u001b[1;33m=\u001b[0m\u001b[0murllib\u001b[0m\u001b[1;33m.\u001b[0m\u001b[0mrequest\u001b[0m\u001b[1;33m.\u001b[0m\u001b[0murlopen\u001b[0m\u001b[1;33m(\u001b[0m\u001b[0mreq\u001b[0m\u001b[1;33m)\u001b[0m\u001b[1;33m.\u001b[0m\u001b[0mread\u001b[0m\u001b[1;33m(\u001b[0m\u001b[1;33m)\u001b[0m\u001b[1;33m\u001b[0m\u001b[0m\n\u001b[0m\u001b[0;32m     10\u001b[0m \u001b[0mfh\u001b[0m\u001b[1;33m=\u001b[0m\u001b[0mopen\u001b[0m\u001b[1;33m(\u001b[0m\u001b[1;34m\"4.html\"\u001b[0m\u001b[1;33m,\u001b[0m\u001b[1;34m\"wb\"\u001b[0m\u001b[1;33m)\u001b[0m\u001b[1;33m\u001b[0m\u001b[0m\n\u001b[0;32m     11\u001b[0m \u001b[0mfh\u001b[0m\u001b[1;33m.\u001b[0m\u001b[0mwrite\u001b[0m\u001b[1;33m(\u001b[0m\u001b[0mdate\u001b[0m\u001b[1;33m)\u001b[0m\u001b[1;33m\u001b[0m\u001b[0m\n",
      "\u001b[1;32m~\\Anaconda3\\lib\\urllib\\request.py\u001b[0m in \u001b[0;36murlopen\u001b[1;34m(url, data, timeout, cafile, capath, cadefault, context)\u001b[0m\n\u001b[0;32m    221\u001b[0m     \u001b[1;32melse\u001b[0m\u001b[1;33m:\u001b[0m\u001b[1;33m\u001b[0m\u001b[0m\n\u001b[0;32m    222\u001b[0m         \u001b[0mopener\u001b[0m \u001b[1;33m=\u001b[0m \u001b[0m_opener\u001b[0m\u001b[1;33m\u001b[0m\u001b[0m\n\u001b[1;32m--> 223\u001b[1;33m     \u001b[1;32mreturn\u001b[0m \u001b[0mopener\u001b[0m\u001b[1;33m.\u001b[0m\u001b[0mopen\u001b[0m\u001b[1;33m(\u001b[0m\u001b[0murl\u001b[0m\u001b[1;33m,\u001b[0m \u001b[0mdata\u001b[0m\u001b[1;33m,\u001b[0m \u001b[0mtimeout\u001b[0m\u001b[1;33m)\u001b[0m\u001b[1;33m\u001b[0m\u001b[0m\n\u001b[0m\u001b[0;32m    224\u001b[0m \u001b[1;33m\u001b[0m\u001b[0m\n\u001b[0;32m    225\u001b[0m \u001b[1;32mdef\u001b[0m \u001b[0minstall_opener\u001b[0m\u001b[1;33m(\u001b[0m\u001b[0mopener\u001b[0m\u001b[1;33m)\u001b[0m\u001b[1;33m:\u001b[0m\u001b[1;33m\u001b[0m\u001b[0m\n",
      "\u001b[1;32m~\\Anaconda3\\lib\\urllib\\request.py\u001b[0m in \u001b[0;36mopen\u001b[1;34m(self, fullurl, data, timeout)\u001b[0m\n\u001b[0;32m    530\u001b[0m         \u001b[1;32mfor\u001b[0m \u001b[0mprocessor\u001b[0m \u001b[1;32min\u001b[0m \u001b[0mself\u001b[0m\u001b[1;33m.\u001b[0m\u001b[0mprocess_response\u001b[0m\u001b[1;33m.\u001b[0m\u001b[0mget\u001b[0m\u001b[1;33m(\u001b[0m\u001b[0mprotocol\u001b[0m\u001b[1;33m,\u001b[0m \u001b[1;33m[\u001b[0m\u001b[1;33m]\u001b[0m\u001b[1;33m)\u001b[0m\u001b[1;33m:\u001b[0m\u001b[1;33m\u001b[0m\u001b[0m\n\u001b[0;32m    531\u001b[0m             \u001b[0mmeth\u001b[0m \u001b[1;33m=\u001b[0m \u001b[0mgetattr\u001b[0m\u001b[1;33m(\u001b[0m\u001b[0mprocessor\u001b[0m\u001b[1;33m,\u001b[0m \u001b[0mmeth_name\u001b[0m\u001b[1;33m)\u001b[0m\u001b[1;33m\u001b[0m\u001b[0m\n\u001b[1;32m--> 532\u001b[1;33m             \u001b[0mresponse\u001b[0m \u001b[1;33m=\u001b[0m \u001b[0mmeth\u001b[0m\u001b[1;33m(\u001b[0m\u001b[0mreq\u001b[0m\u001b[1;33m,\u001b[0m \u001b[0mresponse\u001b[0m\u001b[1;33m)\u001b[0m\u001b[1;33m\u001b[0m\u001b[0m\n\u001b[0m\u001b[0;32m    533\u001b[0m \u001b[1;33m\u001b[0m\u001b[0m\n\u001b[0;32m    534\u001b[0m         \u001b[1;32mreturn\u001b[0m \u001b[0mresponse\u001b[0m\u001b[1;33m\u001b[0m\u001b[0m\n",
      "\u001b[1;32m~\\Anaconda3\\lib\\urllib\\request.py\u001b[0m in \u001b[0;36mhttp_response\u001b[1;34m(self, request, response)\u001b[0m\n\u001b[0;32m    640\u001b[0m         \u001b[1;32mif\u001b[0m \u001b[1;32mnot\u001b[0m \u001b[1;33m(\u001b[0m\u001b[1;36m200\u001b[0m \u001b[1;33m<=\u001b[0m \u001b[0mcode\u001b[0m \u001b[1;33m<\u001b[0m \u001b[1;36m300\u001b[0m\u001b[1;33m)\u001b[0m\u001b[1;33m:\u001b[0m\u001b[1;33m\u001b[0m\u001b[0m\n\u001b[0;32m    641\u001b[0m             response = self.parent.error(\n\u001b[1;32m--> 642\u001b[1;33m                 'http', request, response, code, msg, hdrs)\n\u001b[0m\u001b[0;32m    643\u001b[0m \u001b[1;33m\u001b[0m\u001b[0m\n\u001b[0;32m    644\u001b[0m         \u001b[1;32mreturn\u001b[0m \u001b[0mresponse\u001b[0m\u001b[1;33m\u001b[0m\u001b[0m\n",
      "\u001b[1;32m~\\Anaconda3\\lib\\urllib\\request.py\u001b[0m in \u001b[0;36merror\u001b[1;34m(self, proto, *args)\u001b[0m\n\u001b[0;32m    568\u001b[0m         \u001b[1;32mif\u001b[0m \u001b[0mhttp_err\u001b[0m\u001b[1;33m:\u001b[0m\u001b[1;33m\u001b[0m\u001b[0m\n\u001b[0;32m    569\u001b[0m             \u001b[0margs\u001b[0m \u001b[1;33m=\u001b[0m \u001b[1;33m(\u001b[0m\u001b[0mdict\u001b[0m\u001b[1;33m,\u001b[0m \u001b[1;34m'default'\u001b[0m\u001b[1;33m,\u001b[0m \u001b[1;34m'http_error_default'\u001b[0m\u001b[1;33m)\u001b[0m \u001b[1;33m+\u001b[0m \u001b[0morig_args\u001b[0m\u001b[1;33m\u001b[0m\u001b[0m\n\u001b[1;32m--> 570\u001b[1;33m             \u001b[1;32mreturn\u001b[0m \u001b[0mself\u001b[0m\u001b[1;33m.\u001b[0m\u001b[0m_call_chain\u001b[0m\u001b[1;33m(\u001b[0m\u001b[1;33m*\u001b[0m\u001b[0margs\u001b[0m\u001b[1;33m)\u001b[0m\u001b[1;33m\u001b[0m\u001b[0m\n\u001b[0m\u001b[0;32m    571\u001b[0m \u001b[1;33m\u001b[0m\u001b[0m\n\u001b[0;32m    572\u001b[0m \u001b[1;31m# XXX probably also want an abstract factory that knows when it makes\u001b[0m\u001b[1;33m\u001b[0m\u001b[1;33m\u001b[0m\u001b[0m\n",
      "\u001b[1;32m~\\Anaconda3\\lib\\urllib\\request.py\u001b[0m in \u001b[0;36m_call_chain\u001b[1;34m(self, chain, kind, meth_name, *args)\u001b[0m\n\u001b[0;32m    502\u001b[0m         \u001b[1;32mfor\u001b[0m \u001b[0mhandler\u001b[0m \u001b[1;32min\u001b[0m \u001b[0mhandlers\u001b[0m\u001b[1;33m:\u001b[0m\u001b[1;33m\u001b[0m\u001b[0m\n\u001b[0;32m    503\u001b[0m             \u001b[0mfunc\u001b[0m \u001b[1;33m=\u001b[0m \u001b[0mgetattr\u001b[0m\u001b[1;33m(\u001b[0m\u001b[0mhandler\u001b[0m\u001b[1;33m,\u001b[0m \u001b[0mmeth_name\u001b[0m\u001b[1;33m)\u001b[0m\u001b[1;33m\u001b[0m\u001b[0m\n\u001b[1;32m--> 504\u001b[1;33m             \u001b[0mresult\u001b[0m \u001b[1;33m=\u001b[0m \u001b[0mfunc\u001b[0m\u001b[1;33m(\u001b[0m\u001b[1;33m*\u001b[0m\u001b[0margs\u001b[0m\u001b[1;33m)\u001b[0m\u001b[1;33m\u001b[0m\u001b[0m\n\u001b[0m\u001b[0;32m    505\u001b[0m             \u001b[1;32mif\u001b[0m \u001b[0mresult\u001b[0m \u001b[1;32mis\u001b[0m \u001b[1;32mnot\u001b[0m \u001b[1;32mNone\u001b[0m\u001b[1;33m:\u001b[0m\u001b[1;33m\u001b[0m\u001b[0m\n\u001b[0;32m    506\u001b[0m                 \u001b[1;32mreturn\u001b[0m \u001b[0mresult\u001b[0m\u001b[1;33m\u001b[0m\u001b[0m\n",
      "\u001b[1;32m~\\Anaconda3\\lib\\urllib\\request.py\u001b[0m in \u001b[0;36mhttp_error_default\u001b[1;34m(self, req, fp, code, msg, hdrs)\u001b[0m\n\u001b[0;32m    648\u001b[0m \u001b[1;32mclass\u001b[0m \u001b[0mHTTPDefaultErrorHandler\u001b[0m\u001b[1;33m(\u001b[0m\u001b[0mBaseHandler\u001b[0m\u001b[1;33m)\u001b[0m\u001b[1;33m:\u001b[0m\u001b[1;33m\u001b[0m\u001b[0m\n\u001b[0;32m    649\u001b[0m     \u001b[1;32mdef\u001b[0m \u001b[0mhttp_error_default\u001b[0m\u001b[1;33m(\u001b[0m\u001b[0mself\u001b[0m\u001b[1;33m,\u001b[0m \u001b[0mreq\u001b[0m\u001b[1;33m,\u001b[0m \u001b[0mfp\u001b[0m\u001b[1;33m,\u001b[0m \u001b[0mcode\u001b[0m\u001b[1;33m,\u001b[0m \u001b[0mmsg\u001b[0m\u001b[1;33m,\u001b[0m \u001b[0mhdrs\u001b[0m\u001b[1;33m)\u001b[0m\u001b[1;33m:\u001b[0m\u001b[1;33m\u001b[0m\u001b[0m\n\u001b[1;32m--> 650\u001b[1;33m         \u001b[1;32mraise\u001b[0m \u001b[0mHTTPError\u001b[0m\u001b[1;33m(\u001b[0m\u001b[0mreq\u001b[0m\u001b[1;33m.\u001b[0m\u001b[0mfull_url\u001b[0m\u001b[1;33m,\u001b[0m \u001b[0mcode\u001b[0m\u001b[1;33m,\u001b[0m \u001b[0mmsg\u001b[0m\u001b[1;33m,\u001b[0m \u001b[0mhdrs\u001b[0m\u001b[1;33m,\u001b[0m \u001b[0mfp\u001b[0m\u001b[1;33m)\u001b[0m\u001b[1;33m\u001b[0m\u001b[0m\n\u001b[0m\u001b[0;32m    651\u001b[0m \u001b[1;33m\u001b[0m\u001b[0m\n\u001b[0;32m    652\u001b[0m \u001b[1;32mclass\u001b[0m \u001b[0mHTTPRedirectHandler\u001b[0m\u001b[1;33m(\u001b[0m\u001b[0mBaseHandler\u001b[0m\u001b[1;33m)\u001b[0m\u001b[1;33m:\u001b[0m\u001b[1;33m\u001b[0m\u001b[0m\n",
      "\u001b[1;31mHTTPError\u001b[0m: HTTP Error 500: Internal Server Error"
     ]
    }
   ],
   "source": [
    "import urllib.request\n",
    "import urllib.parse\n",
    "url=\"http://www.iqianyue.com/mypost\"\n",
    "mydata=urllib.parse.urlencode({\n",
    "    \"name\":\"ceo@oqianyue.com\",\n",
    "    \"pase\":\"123456\"\n",
    "}).encode(\"UTF-8\")\n",
    "req=urllib.request.Request(url,mydata)\n",
    "data=urllib.request.urlopen(req).read()\n",
    "fh=open(\"4.html\",\"wb\")\n",
    "fh.write(date)\n",
    "fh.close"
   ]
  },
  {
   "cell_type": "raw",
   "metadata": {},
   "source": []
  },
  {
   "cell_type": "code",
   "execution_count": 3,
   "metadata": {},
   "outputs": [
    {
     "data": {
      "text/plain": [
       "<function BufferedWriter.close>"
      ]
     },
     "execution_count": 3,
     "metadata": {},
     "output_type": "execute_result"
    }
   ],
   "source": [
    "import urllib.request\n",
    "url=\"https://blog.csdn.net/qq_38189195/article/details/82492696\"\n",
    "headers=(\"User-Agent\",\"Mozilla/5.0 (Windows NT 10.0; Win64; x64) AppleWebKit/537.36 (KHTML, like Gecko) Chrome/67.0.3396.62 Safari/537.36\")\n",
    "opener=urllib.request.build_opener()\n",
    "opener.addheaders=[headers]\n",
    "data=opener.open(url).read()\n",
    "fh=open(\"CSDN爬取实验.html\",\"wb\")\n",
    "fh.write(data)\n",
    "fh.close"
   ]
  },
  {
   "cell_type": "code",
   "execution_count": 2,
   "metadata": {},
   "outputs": [],
   "source": [
    "import re\n",
    "import urllib.request\n",
    "url=\"http://www.imau.edu.cn/\"\n",
    "data = urllib.request.urlopen(url).read()\n",
    "#ignore无视爬取新闻的错误。\n",
    "data2 =data.decode('utf-8',\"ignore\")\n",
    "pat='<a href=\"(http:.*?)\" target'\n",
    "allurl=re.compile(pat).findall(data2)\n",
    "\n",
    "\n"
   ]
  },
  {
   "cell_type": "code",
   "execution_count": 3,
   "metadata": {},
   "outputs": [
    {
     "name": "stdout",
     "output_type": "stream",
     "text": [
      "第0次爬取\n",
      "完成\n",
      "第1次爬取\n",
      "完成\n",
      "第2次爬取\n",
      "完成\n",
      "第3次爬取\n",
      "完成\n",
      "第4次爬取\n",
      "完成\n",
      "第5次爬取\n",
      "完成\n",
      "第6次爬取\n",
      "完成\n",
      "第7次爬取\n",
      "完成\n",
      "第8次爬取\n",
      "完成\n",
      "第9次爬取\n",
      "完成\n",
      "第10次爬取\n",
      "完成\n",
      "第11次爬取\n",
      "完成\n",
      "第12次爬取\n",
      "完成\n",
      "第13次爬取\n",
      "完成\n",
      "第14次爬取\n",
      "完成\n",
      "第15次爬取\n",
      "完成\n",
      "第16次爬取\n",
      "完成\n",
      "第17次爬取\n",
      "完成\n",
      "第18次爬取\n",
      "完成\n",
      "第19次爬取\n",
      "完成\n",
      "第20次爬取\n",
      "完成\n",
      "第21次爬取\n",
      "完成\n",
      "第22次爬取\n",
      "完成\n",
      "第23次爬取\n",
      "完成\n",
      "第24次爬取\n",
      "完成\n",
      "第25次爬取\n",
      "完成\n",
      "第26次爬取\n",
      "完成\n",
      "第27次爬取\n",
      "完成\n",
      "第28次爬取\n"
     ]
    },
    {
     "ename": "ConnectionResetError",
     "evalue": "[WinError 10054] 远程主机强迫关闭了一个现有的连接。",
     "output_type": "error",
     "traceback": [
      "\u001b[1;31m---------------------------------------------------------------------------\u001b[0m",
      "\u001b[1;31mConnectionResetError\u001b[0m                      Traceback (most recent call last)",
      "\u001b[1;32m<ipython-input-3-ea20109c6597>\u001b[0m in \u001b[0;36m<module>\u001b[1;34m()\u001b[0m\n\u001b[0;32m      4\u001b[0m         \u001b[0mthisurl\u001b[0m\u001b[1;33m=\u001b[0m\u001b[0mallurl\u001b[0m\u001b[1;33m[\u001b[0m\u001b[0mi\u001b[0m\u001b[1;33m]\u001b[0m\u001b[1;33m\u001b[0m\u001b[0m\n\u001b[0;32m      5\u001b[0m         \u001b[0mfile\u001b[0m\u001b[1;33m=\u001b[0m\u001b[0mstr\u001b[0m\u001b[1;33m(\u001b[0m\u001b[0mi\u001b[0m\u001b[1;33m)\u001b[0m\u001b[1;33m+\u001b[0m\u001b[1;34m\".html\"\u001b[0m\u001b[1;33m\u001b[0m\u001b[0m\n\u001b[1;32m----> 6\u001b[1;33m         \u001b[0murllib\u001b[0m\u001b[1;33m.\u001b[0m\u001b[0mrequest\u001b[0m\u001b[1;33m.\u001b[0m\u001b[0murlretrieve\u001b[0m\u001b[1;33m(\u001b[0m\u001b[0mthisurl\u001b[0m\u001b[1;33m,\u001b[0m\u001b[0mfile\u001b[0m\u001b[1;33m)\u001b[0m\u001b[1;33m\u001b[0m\u001b[0m\n\u001b[0m\u001b[0;32m      7\u001b[0m         \u001b[0mprint\u001b[0m\u001b[1;33m(\u001b[0m\u001b[1;34m\"完成\"\u001b[0m\u001b[1;33m)\u001b[0m\u001b[1;33m\u001b[0m\u001b[0m\n\u001b[0;32m      8\u001b[0m     \u001b[1;32mexcept\u001b[0m \u001b[0murllib\u001b[0m\u001b[1;33m.\u001b[0m\u001b[0merror\u001b[0m\u001b[1;33m.\u001b[0m\u001b[0mURLError\u001b[0m \u001b[1;32mas\u001b[0m \u001b[0me\u001b[0m\u001b[1;33m:\u001b[0m\u001b[1;33m\u001b[0m\u001b[0m\n",
      "\u001b[1;32m~\\Anaconda3\\lib\\urllib\\request.py\u001b[0m in \u001b[0;36murlretrieve\u001b[1;34m(url, filename, reporthook, data)\u001b[0m\n\u001b[0;32m    246\u001b[0m     \u001b[0murl_type\u001b[0m\u001b[1;33m,\u001b[0m \u001b[0mpath\u001b[0m \u001b[1;33m=\u001b[0m \u001b[0msplittype\u001b[0m\u001b[1;33m(\u001b[0m\u001b[0murl\u001b[0m\u001b[1;33m)\u001b[0m\u001b[1;33m\u001b[0m\u001b[0m\n\u001b[0;32m    247\u001b[0m \u001b[1;33m\u001b[0m\u001b[0m\n\u001b[1;32m--> 248\u001b[1;33m     \u001b[1;32mwith\u001b[0m \u001b[0mcontextlib\u001b[0m\u001b[1;33m.\u001b[0m\u001b[0mclosing\u001b[0m\u001b[1;33m(\u001b[0m\u001b[0murlopen\u001b[0m\u001b[1;33m(\u001b[0m\u001b[0murl\u001b[0m\u001b[1;33m,\u001b[0m \u001b[0mdata\u001b[0m\u001b[1;33m)\u001b[0m\u001b[1;33m)\u001b[0m \u001b[1;32mas\u001b[0m \u001b[0mfp\u001b[0m\u001b[1;33m:\u001b[0m\u001b[1;33m\u001b[0m\u001b[0m\n\u001b[0m\u001b[0;32m    249\u001b[0m         \u001b[0mheaders\u001b[0m \u001b[1;33m=\u001b[0m \u001b[0mfp\u001b[0m\u001b[1;33m.\u001b[0m\u001b[0minfo\u001b[0m\u001b[1;33m(\u001b[0m\u001b[1;33m)\u001b[0m\u001b[1;33m\u001b[0m\u001b[0m\n\u001b[0;32m    250\u001b[0m \u001b[1;33m\u001b[0m\u001b[0m\n",
      "\u001b[1;32m~\\Anaconda3\\lib\\urllib\\request.py\u001b[0m in \u001b[0;36murlopen\u001b[1;34m(url, data, timeout, cafile, capath, cadefault, context)\u001b[0m\n\u001b[0;32m    221\u001b[0m     \u001b[1;32melse\u001b[0m\u001b[1;33m:\u001b[0m\u001b[1;33m\u001b[0m\u001b[0m\n\u001b[0;32m    222\u001b[0m         \u001b[0mopener\u001b[0m \u001b[1;33m=\u001b[0m \u001b[0m_opener\u001b[0m\u001b[1;33m\u001b[0m\u001b[0m\n\u001b[1;32m--> 223\u001b[1;33m     \u001b[1;32mreturn\u001b[0m \u001b[0mopener\u001b[0m\u001b[1;33m.\u001b[0m\u001b[0mopen\u001b[0m\u001b[1;33m(\u001b[0m\u001b[0murl\u001b[0m\u001b[1;33m,\u001b[0m \u001b[0mdata\u001b[0m\u001b[1;33m,\u001b[0m \u001b[0mtimeout\u001b[0m\u001b[1;33m)\u001b[0m\u001b[1;33m\u001b[0m\u001b[0m\n\u001b[0m\u001b[0;32m    224\u001b[0m \u001b[1;33m\u001b[0m\u001b[0m\n\u001b[0;32m    225\u001b[0m \u001b[1;32mdef\u001b[0m \u001b[0minstall_opener\u001b[0m\u001b[1;33m(\u001b[0m\u001b[0mopener\u001b[0m\u001b[1;33m)\u001b[0m\u001b[1;33m:\u001b[0m\u001b[1;33m\u001b[0m\u001b[0m\n",
      "\u001b[1;32m~\\Anaconda3\\lib\\urllib\\request.py\u001b[0m in \u001b[0;36mopen\u001b[1;34m(self, fullurl, data, timeout)\u001b[0m\n\u001b[0;32m    524\u001b[0m             \u001b[0mreq\u001b[0m \u001b[1;33m=\u001b[0m \u001b[0mmeth\u001b[0m\u001b[1;33m(\u001b[0m\u001b[0mreq\u001b[0m\u001b[1;33m)\u001b[0m\u001b[1;33m\u001b[0m\u001b[0m\n\u001b[0;32m    525\u001b[0m \u001b[1;33m\u001b[0m\u001b[0m\n\u001b[1;32m--> 526\u001b[1;33m         \u001b[0mresponse\u001b[0m \u001b[1;33m=\u001b[0m \u001b[0mself\u001b[0m\u001b[1;33m.\u001b[0m\u001b[0m_open\u001b[0m\u001b[1;33m(\u001b[0m\u001b[0mreq\u001b[0m\u001b[1;33m,\u001b[0m \u001b[0mdata\u001b[0m\u001b[1;33m)\u001b[0m\u001b[1;33m\u001b[0m\u001b[0m\n\u001b[0m\u001b[0;32m    527\u001b[0m \u001b[1;33m\u001b[0m\u001b[0m\n\u001b[0;32m    528\u001b[0m         \u001b[1;31m# post-process response\u001b[0m\u001b[1;33m\u001b[0m\u001b[1;33m\u001b[0m\u001b[0m\n",
      "\u001b[1;32m~\\Anaconda3\\lib\\urllib\\request.py\u001b[0m in \u001b[0;36m_open\u001b[1;34m(self, req, data)\u001b[0m\n\u001b[0;32m    542\u001b[0m         \u001b[0mprotocol\u001b[0m \u001b[1;33m=\u001b[0m \u001b[0mreq\u001b[0m\u001b[1;33m.\u001b[0m\u001b[0mtype\u001b[0m\u001b[1;33m\u001b[0m\u001b[0m\n\u001b[0;32m    543\u001b[0m         result = self._call_chain(self.handle_open, protocol, protocol +\n\u001b[1;32m--> 544\u001b[1;33m                                   '_open', req)\n\u001b[0m\u001b[0;32m    545\u001b[0m         \u001b[1;32mif\u001b[0m \u001b[0mresult\u001b[0m\u001b[1;33m:\u001b[0m\u001b[1;33m\u001b[0m\u001b[0m\n\u001b[0;32m    546\u001b[0m             \u001b[1;32mreturn\u001b[0m \u001b[0mresult\u001b[0m\u001b[1;33m\u001b[0m\u001b[0m\n",
      "\u001b[1;32m~\\Anaconda3\\lib\\urllib\\request.py\u001b[0m in \u001b[0;36m_call_chain\u001b[1;34m(self, chain, kind, meth_name, *args)\u001b[0m\n\u001b[0;32m    502\u001b[0m         \u001b[1;32mfor\u001b[0m \u001b[0mhandler\u001b[0m \u001b[1;32min\u001b[0m \u001b[0mhandlers\u001b[0m\u001b[1;33m:\u001b[0m\u001b[1;33m\u001b[0m\u001b[0m\n\u001b[0;32m    503\u001b[0m             \u001b[0mfunc\u001b[0m \u001b[1;33m=\u001b[0m \u001b[0mgetattr\u001b[0m\u001b[1;33m(\u001b[0m\u001b[0mhandler\u001b[0m\u001b[1;33m,\u001b[0m \u001b[0mmeth_name\u001b[0m\u001b[1;33m)\u001b[0m\u001b[1;33m\u001b[0m\u001b[0m\n\u001b[1;32m--> 504\u001b[1;33m             \u001b[0mresult\u001b[0m \u001b[1;33m=\u001b[0m \u001b[0mfunc\u001b[0m\u001b[1;33m(\u001b[0m\u001b[1;33m*\u001b[0m\u001b[0margs\u001b[0m\u001b[1;33m)\u001b[0m\u001b[1;33m\u001b[0m\u001b[0m\n\u001b[0m\u001b[0;32m    505\u001b[0m             \u001b[1;32mif\u001b[0m \u001b[0mresult\u001b[0m \u001b[1;32mis\u001b[0m \u001b[1;32mnot\u001b[0m \u001b[1;32mNone\u001b[0m\u001b[1;33m:\u001b[0m\u001b[1;33m\u001b[0m\u001b[0m\n\u001b[0;32m    506\u001b[0m                 \u001b[1;32mreturn\u001b[0m \u001b[0mresult\u001b[0m\u001b[1;33m\u001b[0m\u001b[0m\n",
      "\u001b[1;32m~\\Anaconda3\\lib\\urllib\\request.py\u001b[0m in \u001b[0;36mhttp_open\u001b[1;34m(self, req)\u001b[0m\n\u001b[0;32m   1344\u001b[0m \u001b[1;33m\u001b[0m\u001b[0m\n\u001b[0;32m   1345\u001b[0m     \u001b[1;32mdef\u001b[0m \u001b[0mhttp_open\u001b[0m\u001b[1;33m(\u001b[0m\u001b[0mself\u001b[0m\u001b[1;33m,\u001b[0m \u001b[0mreq\u001b[0m\u001b[1;33m)\u001b[0m\u001b[1;33m:\u001b[0m\u001b[1;33m\u001b[0m\u001b[0m\n\u001b[1;32m-> 1346\u001b[1;33m         \u001b[1;32mreturn\u001b[0m \u001b[0mself\u001b[0m\u001b[1;33m.\u001b[0m\u001b[0mdo_open\u001b[0m\u001b[1;33m(\u001b[0m\u001b[0mhttp\u001b[0m\u001b[1;33m.\u001b[0m\u001b[0mclient\u001b[0m\u001b[1;33m.\u001b[0m\u001b[0mHTTPConnection\u001b[0m\u001b[1;33m,\u001b[0m \u001b[0mreq\u001b[0m\u001b[1;33m)\u001b[0m\u001b[1;33m\u001b[0m\u001b[0m\n\u001b[0m\u001b[0;32m   1347\u001b[0m \u001b[1;33m\u001b[0m\u001b[0m\n\u001b[0;32m   1348\u001b[0m     \u001b[0mhttp_request\u001b[0m \u001b[1;33m=\u001b[0m \u001b[0mAbstractHTTPHandler\u001b[0m\u001b[1;33m.\u001b[0m\u001b[0mdo_request_\u001b[0m\u001b[1;33m\u001b[0m\u001b[0m\n",
      "\u001b[1;32m~\\Anaconda3\\lib\\urllib\\request.py\u001b[0m in \u001b[0;36mdo_open\u001b[1;34m(self, http_class, req, **http_conn_args)\u001b[0m\n\u001b[0;32m   1319\u001b[0m             \u001b[1;32mexcept\u001b[0m \u001b[0mOSError\u001b[0m \u001b[1;32mas\u001b[0m \u001b[0merr\u001b[0m\u001b[1;33m:\u001b[0m \u001b[1;31m# timeout error\u001b[0m\u001b[1;33m\u001b[0m\u001b[0m\n\u001b[0;32m   1320\u001b[0m                 \u001b[1;32mraise\u001b[0m \u001b[0mURLError\u001b[0m\u001b[1;33m(\u001b[0m\u001b[0merr\u001b[0m\u001b[1;33m)\u001b[0m\u001b[1;33m\u001b[0m\u001b[0m\n\u001b[1;32m-> 1321\u001b[1;33m             \u001b[0mr\u001b[0m \u001b[1;33m=\u001b[0m \u001b[0mh\u001b[0m\u001b[1;33m.\u001b[0m\u001b[0mgetresponse\u001b[0m\u001b[1;33m(\u001b[0m\u001b[1;33m)\u001b[0m\u001b[1;33m\u001b[0m\u001b[0m\n\u001b[0m\u001b[0;32m   1322\u001b[0m         \u001b[1;32mexcept\u001b[0m\u001b[1;33m:\u001b[0m\u001b[1;33m\u001b[0m\u001b[0m\n\u001b[0;32m   1323\u001b[0m             \u001b[0mh\u001b[0m\u001b[1;33m.\u001b[0m\u001b[0mclose\u001b[0m\u001b[1;33m(\u001b[0m\u001b[1;33m)\u001b[0m\u001b[1;33m\u001b[0m\u001b[0m\n",
      "\u001b[1;32m~\\Anaconda3\\lib\\http\\client.py\u001b[0m in \u001b[0;36mgetresponse\u001b[1;34m(self)\u001b[0m\n\u001b[0;32m   1329\u001b[0m         \u001b[1;32mtry\u001b[0m\u001b[1;33m:\u001b[0m\u001b[1;33m\u001b[0m\u001b[0m\n\u001b[0;32m   1330\u001b[0m             \u001b[1;32mtry\u001b[0m\u001b[1;33m:\u001b[0m\u001b[1;33m\u001b[0m\u001b[0m\n\u001b[1;32m-> 1331\u001b[1;33m                 \u001b[0mresponse\u001b[0m\u001b[1;33m.\u001b[0m\u001b[0mbegin\u001b[0m\u001b[1;33m(\u001b[0m\u001b[1;33m)\u001b[0m\u001b[1;33m\u001b[0m\u001b[0m\n\u001b[0m\u001b[0;32m   1332\u001b[0m             \u001b[1;32mexcept\u001b[0m \u001b[0mConnectionError\u001b[0m\u001b[1;33m:\u001b[0m\u001b[1;33m\u001b[0m\u001b[0m\n\u001b[0;32m   1333\u001b[0m                 \u001b[0mself\u001b[0m\u001b[1;33m.\u001b[0m\u001b[0mclose\u001b[0m\u001b[1;33m(\u001b[0m\u001b[1;33m)\u001b[0m\u001b[1;33m\u001b[0m\u001b[0m\n",
      "\u001b[1;32m~\\Anaconda3\\lib\\http\\client.py\u001b[0m in \u001b[0;36mbegin\u001b[1;34m(self)\u001b[0m\n\u001b[0;32m    295\u001b[0m         \u001b[1;31m# read until we get a non-100 response\u001b[0m\u001b[1;33m\u001b[0m\u001b[1;33m\u001b[0m\u001b[0m\n\u001b[0;32m    296\u001b[0m         \u001b[1;32mwhile\u001b[0m \u001b[1;32mTrue\u001b[0m\u001b[1;33m:\u001b[0m\u001b[1;33m\u001b[0m\u001b[0m\n\u001b[1;32m--> 297\u001b[1;33m             \u001b[0mversion\u001b[0m\u001b[1;33m,\u001b[0m \u001b[0mstatus\u001b[0m\u001b[1;33m,\u001b[0m \u001b[0mreason\u001b[0m \u001b[1;33m=\u001b[0m \u001b[0mself\u001b[0m\u001b[1;33m.\u001b[0m\u001b[0m_read_status\u001b[0m\u001b[1;33m(\u001b[0m\u001b[1;33m)\u001b[0m\u001b[1;33m\u001b[0m\u001b[0m\n\u001b[0m\u001b[0;32m    298\u001b[0m             \u001b[1;32mif\u001b[0m \u001b[0mstatus\u001b[0m \u001b[1;33m!=\u001b[0m \u001b[0mCONTINUE\u001b[0m\u001b[1;33m:\u001b[0m\u001b[1;33m\u001b[0m\u001b[0m\n\u001b[0;32m    299\u001b[0m                 \u001b[1;32mbreak\u001b[0m\u001b[1;33m\u001b[0m\u001b[0m\n",
      "\u001b[1;32m~\\Anaconda3\\lib\\http\\client.py\u001b[0m in \u001b[0;36m_read_status\u001b[1;34m(self)\u001b[0m\n\u001b[0;32m    256\u001b[0m \u001b[1;33m\u001b[0m\u001b[0m\n\u001b[0;32m    257\u001b[0m     \u001b[1;32mdef\u001b[0m \u001b[0m_read_status\u001b[0m\u001b[1;33m(\u001b[0m\u001b[0mself\u001b[0m\u001b[1;33m)\u001b[0m\u001b[1;33m:\u001b[0m\u001b[1;33m\u001b[0m\u001b[0m\n\u001b[1;32m--> 258\u001b[1;33m         \u001b[0mline\u001b[0m \u001b[1;33m=\u001b[0m \u001b[0mstr\u001b[0m\u001b[1;33m(\u001b[0m\u001b[0mself\u001b[0m\u001b[1;33m.\u001b[0m\u001b[0mfp\u001b[0m\u001b[1;33m.\u001b[0m\u001b[0mreadline\u001b[0m\u001b[1;33m(\u001b[0m\u001b[0m_MAXLINE\u001b[0m \u001b[1;33m+\u001b[0m \u001b[1;36m1\u001b[0m\u001b[1;33m)\u001b[0m\u001b[1;33m,\u001b[0m \u001b[1;34m\"iso-8859-1\"\u001b[0m\u001b[1;33m)\u001b[0m\u001b[1;33m\u001b[0m\u001b[0m\n\u001b[0m\u001b[0;32m    259\u001b[0m         \u001b[1;32mif\u001b[0m \u001b[0mlen\u001b[0m\u001b[1;33m(\u001b[0m\u001b[0mline\u001b[0m\u001b[1;33m)\u001b[0m \u001b[1;33m>\u001b[0m \u001b[0m_MAXLINE\u001b[0m\u001b[1;33m:\u001b[0m\u001b[1;33m\u001b[0m\u001b[0m\n\u001b[0;32m    260\u001b[0m             \u001b[1;32mraise\u001b[0m \u001b[0mLineTooLong\u001b[0m\u001b[1;33m(\u001b[0m\u001b[1;34m\"status line\"\u001b[0m\u001b[1;33m)\u001b[0m\u001b[1;33m\u001b[0m\u001b[0m\n",
      "\u001b[1;32m~\\Anaconda3\\lib\\socket.py\u001b[0m in \u001b[0;36mreadinto\u001b[1;34m(self, b)\u001b[0m\n\u001b[0;32m    584\u001b[0m         \u001b[1;32mwhile\u001b[0m \u001b[1;32mTrue\u001b[0m\u001b[1;33m:\u001b[0m\u001b[1;33m\u001b[0m\u001b[0m\n\u001b[0;32m    585\u001b[0m             \u001b[1;32mtry\u001b[0m\u001b[1;33m:\u001b[0m\u001b[1;33m\u001b[0m\u001b[0m\n\u001b[1;32m--> 586\u001b[1;33m                 \u001b[1;32mreturn\u001b[0m \u001b[0mself\u001b[0m\u001b[1;33m.\u001b[0m\u001b[0m_sock\u001b[0m\u001b[1;33m.\u001b[0m\u001b[0mrecv_into\u001b[0m\u001b[1;33m(\u001b[0m\u001b[0mb\u001b[0m\u001b[1;33m)\u001b[0m\u001b[1;33m\u001b[0m\u001b[0m\n\u001b[0m\u001b[0;32m    587\u001b[0m             \u001b[1;32mexcept\u001b[0m \u001b[0mtimeout\u001b[0m\u001b[1;33m:\u001b[0m\u001b[1;33m\u001b[0m\u001b[0m\n\u001b[0;32m    588\u001b[0m                 \u001b[0mself\u001b[0m\u001b[1;33m.\u001b[0m\u001b[0m_timeout_occurred\u001b[0m \u001b[1;33m=\u001b[0m \u001b[1;32mTrue\u001b[0m\u001b[1;33m\u001b[0m\u001b[0m\n",
      "\u001b[1;31mConnectionResetError\u001b[0m: [WinError 10054] 远程主机强迫关闭了一个现有的连接。"
     ]
    }
   ],
   "source": [
    "for i in range(0,len(allurl)):\n",
    "    try:\n",
    "        print(\"第\"+str(i)+\"次爬取\")\n",
    "        thisurl=allurl[i]\n",
    "        file=str(i)+\".html\"\n",
    "        urllib.request.urlretrieve(thisurl,file)\n",
    "        print(\"完成\")\n",
    "    except urllib.error.URLError as e:\n",
    "        if hasattr(e,\"code\"):\n",
    "            print(e.code)\n",
    "        if hasattr(e,\"reason\"):\n",
    "            print(e.reason)"
   ]
  },
  {
   "cell_type": "code",
   "execution_count": 5,
   "metadata": {},
   "outputs": [
    {
     "name": "stdout",
     "output_type": "stream",
     "text": [
      "['http://weibo.com/imau1952', 'http://i.imau.edu.cn/gfwx.htm', 'index.htm', 'ndgk.htm', 'ndgk/ndjj.htm', 'ndgk/dzld.htm', 'http://xsg.imau.edu.cn/', 'tsnd.htm', 'jgsz.htm', 'http://jiwei.imau.edu.cn/', 'http://dangban.imau.edu.cn', 'http://zzb.imau.edu.cn', 'http://xcb.imau.edu.cn', 'http://gonghui.imau.edu.cn', 'http://rainbow.imau.edu.cn', 'http://jwc.imau.edu.cn', 'http://rsc.imau.edu.cn', 'http://kyc.imau.edu.cn/', 'http://yjsy.imau.edu.cn', 'http://hqc.imau.edu.cn', 'http://cwc.imau.edu.cn/', 'http://xsc.imau.edu.cn', 'http://zjc.imau.edu.cn/', 'http://gzc.imau.edu.cn', 'http://bwc.imau.edu.cn/', 'http://laogan.imau.edu.cn', 'http://waiban.imau.edu.cn', 'http://dky.imau.edu.cn/', 'http://shouyi.imau.edu.cn', 'http://nxy.imau.edu.cn', 'http://linxue.imau.edu.cn', 'http://grass.imau.edu.cn', 'http://smzl.imau.edu.cn', 'http://jidian.imau.edu.cn', 'http://sjy.imau.edu.cn', 'http://cyy.imau.edu.cn', 'http://jgy.imau.edu.cn', 'http://spy.imau.edu.cn', 'http://jsj.imau.edu.cn', 'http://sky.imau.edu.cn', 'http://renwen.imau.edu.cn', 'http://wy.imau.edu.cn', 'http://lxy.imau.edu.cn', 'http://nyjtxy.imau.edu.cn', 'http://tyjxb.imau.edu.cn', 'http://malie.imau.edu.cn', 'http://gjjyxy.imau.edu.cn', 'http://jjy.imau.edu.cn', 'http://zy.imau.edu.cn', 'http://xuebao.imau.edu.cn', 'http://tsg.imau.edu.cn', 'http://dangan.imau.edu.cn', 'http://kejiyq.imau.edu.cn', 'http://nic.imau.edu.cn', 'http://fzh.imau.edu.cn', 'http://jcjy.imau.edu.cn', 'http://zichan.imau.edu.cn/', 'http://jiguan.imau.edu.cn/', 'http://houqin.imau.edu.cn', 'http://xiaoyou.imau.edu.cn/', 'http://nlsjy.imau.edu.cn', 'http://ggw.imau.edu.cn', 'http://professor.imau.edu.cn', 'http://xsgy.imau.edu.cn', 'http://hospital.imau.edu.cn/', 'http://ps.imau.edu.cn', 'http://yey.imau.edu.cn', 'http://cszx.imau.edu.cn', 'jxky.htm', 'jxky/jxgz.htm', 'jxky/kydt.htm', 'http://zjc.imau.edu.cn/', 'http://zhaosheng.imau.edu.cn', 'http://job.imau.edu.cn', 'ssfc.htm', 'ybdt.htm', 'spzl.htm', 'ztwz.htm', 'wlds.htm', 'http://xiaobao.imau.edu.cn', 'http://mw.imau.edu.cn/', 'index/zhxw.htm', 'info/1035/25132.htm', 'info/1035/25265.htm', 'info/1035/25268.htm', 'info/1037/25260.htm', 'info/1035/25261.htm', 'info/1035/25253.htm', 'info/1035/25248.htm', 'info/1053/25245.htm', 'info/1035/25244.htm', 'info/1035/25237.htm', 'info/1053/25235.htm', 'info/1035/25229.htm', 'info/1035/25226.htm', 'index/tzgg.htm', 'http://jwc.imau.edu.cn/info/1112/4672.htm\" class=\"linktit\">09-11</a></h3> <div><a href=\"http://jwc.imau.edu.cn/info/1112/4672.htm', 'http://jwc.imau.edu.cn/info/1116/4671.htm \" class=\"linktit\">09-11</a></h3> <div><a href=\"http://jwc.imau.edu.cn/info/1116/4671.htm ', 'http://waiban.imau.edu.cn/info/1054/2171.htm\" class=\"linktit\">09-11</a></h3> <div><a href=\"http://waiban.imau.edu.cn/info/1054/2171.htm', 'http://xcb.imau.edu.cn/info/1003/2792.htm\" class=\"linktit\">09-07</a></h3> <div><a href=\"http://xcb.imau.edu.cn/info/1003/2792.htm', 'http://yjsy.imau.edu.cn/info/1021/3017.htm\" class=\"linktit\">09-06</a></h3> <div><a href=\"http://yjsy.imau.edu.cn/info/1021/3017.htm', 'http://dangban.imau.edu.cn/info/1043/2865.htm\" class=\"linktit\">09-06</a></h3> <div><a href=\"http://dangban.imau.edu.cn/info/1043/2865.htm', 'http://dangban.imau.edu.cn/info/1043/2864.htm\" class=\"linktit\">09-05</a></h3> <div><a href=\"http://dangban.imau.edu.cn/info/1043/2864.htm', 'http://hospital.imau.edu.cn/info/1012/1389.htm\" class=\"linktit\">09-05</a></h3> <div><a href=\"http://hospital.imau.edu.cn/info/1012/1389.htm', 'http://rsc.imau.edu.cn/info/1016/1905.htm\" class=\"linktit\">09-04</a></h3> <div><a href=\"http://rsc.imau.edu.cn/info/1016/1905.htm', 'http://xcb.imau.edu.cn/info/1003/2788.htm\" class=\"linktit\">09-03</a></h3> <div><a href=\"http://xcb.imau.edu.cn/info/1003/2788.htm', 'info/1023/25228.htm\" class=\"linktit\">08-30</a></h3> <div><a href=\"info/1023/25228.htm', 'info/1023/25227.htm\" class=\"linktit\">08-30</a></h3> <div><a href=\"info/1023/25227.htm', 'index/mtnd.htm', 'info/1025/25258.htm', 'info/1025/25257.htm', 'info/1025/25256.htm', 'info/1025/25252.htm', 'info/1025/25255.htm', 'http://i.imau.edu.cn', 'http://oa.imau.edu.cn', 'http://login.imau.edu.cn', 'http://mail.imau.edu.cn', 'xglj.htm', 'search2.jsp?urltype=tree.TreeTempUrl&wbtreeid=1469', 'http://www.beian.gov.cn/portal/registerSystemInfo?recordcode=15010502000826']\n"
     ]
    }
   ],
   "source": [
    "print(allurl)"
   ]
  },
  {
   "cell_type": "code",
   "execution_count": null,
   "metadata": {},
   "outputs": [],
   "source": []
  },
  {
   "cell_type": "code",
   "execution_count": 1,
   "metadata": {},
   "outputs": [
    {
     "ename": "SyntaxError",
     "evalue": "EOL while scanning string literal (<ipython-input-1-c430a9eff5ad>, line 14)",
     "output_type": "error",
     "traceback": [
      "\u001b[1;36m  File \u001b[1;32m\"<ipython-input-1-c430a9eff5ad>\"\u001b[1;36m, line \u001b[1;32m14\u001b[0m\n\u001b[1;33m    file=open(\"E:\\爬虫爬取实验文档\\\"+str(i) + \".html\",wb)\u001b[0m\n\u001b[1;37m                                                 ^\u001b[0m\n\u001b[1;31mSyntaxError\u001b[0m\u001b[1;31m:\u001b[0m EOL while scanning string literal\n"
     ]
    }
   ],
   "source": [
    "\n"
   ]
  },
  {
   "cell_type": "code",
   "execution_count": null,
   "metadata": {},
   "outputs": [],
   "source": []
  }
 ],
 "metadata": {
  "kernelspec": {
   "display_name": "Python 3",
   "language": "python",
   "name": "python3"
  },
  "language_info": {
   "codemirror_mode": {
    "name": "ipython",
    "version": 3
   },
   "file_extension": ".py",
   "mimetype": "text/x-python",
   "name": "python",
   "nbconvert_exporter": "python",
   "pygments_lexer": "ipython3",
   "version": "3.6.4"
  }
 },
 "nbformat": 4,
 "nbformat_minor": 2
}
